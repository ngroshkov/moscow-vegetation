{
 "cells": [
  {
   "cell_type": "code",
   "execution_count": null,
   "metadata": {},
   "outputs": [],
   "source": [
    "%pip install -U \"geemap[workshop]\""
   ]
  },
  {
   "cell_type": "code",
   "execution_count": 2,
   "metadata": {},
   "outputs": [],
   "source": [
    "import ee\n",
    "import geemap\n",
    "import geemap.colormaps as cm\n",
    "from geemap import geojson_to_ee, ee_to_geojson"
   ]
  },
  {
   "cell_type": "code",
   "execution_count": null,
   "metadata": {},
   "outputs": [],
   "source": [
    "ee.Authenticate()\n",
    "ee.Initialize()"
   ]
  },
  {
   "cell_type": "code",
   "execution_count": null,
   "metadata": {},
   "outputs": [],
   "source": [
    "import json\n",
    "\n",
    "# City Municipal Districs\n",
    "with open(\"./mo.geojson\") as file:\n",
    "    districts = geojson_to_ee(json.load(file))"
   ]
  },
  {
   "cell_type": "code",
   "execution_count": null,
   "metadata": {},
   "outputs": [],
   "source": [
    "def ndvi(img: ee.Image):\n",
    "    ndvi = img.normalizedDifference([\"B5\", \"B4\"]).rename(\"NDVI\")\n",
    "    return img.addBands(ndvi)\n",
    "\n",
    "collection = ee.ImageCollection('LANDSAT/LC08/C02/T1_TOA')"
   ]
  },
  {
   "cell_type": "code",
   "execution_count": null,
   "metadata": {},
   "outputs": [],
   "source": [
    "years = range(2021, 2025)\n",
    "summers = [[f\"{year}-06-01\", f\"{year}-08-31\"] for year in years]\n",
    "filters = [ee.Filter.date(*summer) for summer in summers]\n",
    "allSeasonsFilter = ee.Filter.Or(filters)"
   ]
  },
  {
   "cell_type": "code",
   "execution_count": null,
   "metadata": {},
   "outputs": [],
   "source": [
    "# Number of images\n",
    "\n",
    "def add_year(img: ee.Image):\n",
    "    date = ee.Date(img.get(\"DATE_ACQUIRED\"))\n",
    "    return img.set(\"YEAR\", date.get(\"year\"))\n",
    "\n",
    "images = collection.filterBounds(districts.geometry()) \\\n",
    "    .filter(allSeasonsFilter) \\\n",
    "    .filter(ee.Filter.lt(\"CLOUD_COVER\", 10)) \\\n",
    "    .map(ndvi) \\\n",
    "    .select(['B2','B3','B4','B5','NDVI']) \\\n",
    "    .map(add_year)\n",
    "\n",
    "print(images.size().getInfo())"
   ]
  },
  {
   "cell_type": "code",
   "execution_count": null,
   "metadata": {},
   "outputs": [],
   "source": [
    "import pandas as pd\n",
    "\n",
    "year_acquired=images.aggregate_array(\"YEAR\").getInfo()\n",
    "year_acquired = pd.DataFrame(year_acquired, columns=[\"year\"])\n",
    "year_acquired[\"year\"].value_counts().plot(kind='bar')"
   ]
  },
  {
   "cell_type": "code",
   "execution_count": null,
   "metadata": {},
   "outputs": [],
   "source": [
    "# years = range(2019, 2025)\n",
    "years = [2019, 2024]\n",
    "images = {}\n",
    "for year in years:\n",
    "    summer = [f\"{year}-06-01\", f\"{year}-08-31\"]\n",
    "    filter = ee.Filter.date(*summer)\n",
    "    seasonCollection = collection.filterBounds(districts.geometry()) \\\n",
    "        .filter(filter) \\\n",
    "        .filter(ee.Filter.lt(\"CLOUD_COVER\", 4)) \\\n",
    "        .select(['B2','B3','B4','B5','B6']) \\\n",
    "        \n",
    "\n",
    "    print(f\"{year} : {seasonCollection.size().getInfo()}\")\n",
    "    min_image = seasonCollection.min()\n",
    "    ndvi = min_image.normalizedDifference(['B5', 'B4']).rename('NDVI')\n",
    "    mndwi = min_image.normalizedDifference(['B3', 'B6']).rename('MNDWI')\n",
    "    image = min_image.addBands(ndvi).addBands(mndwi)\n",
    "    images.update({year: image})\n",
    "\n"
   ]
  },
  {
   "cell_type": "code",
   "execution_count": null,
   "metadata": {},
   "outputs": [],
   "source": [
    "\n",
    "mask = images[years[-1]].select(['MNDWI']).lte(0.5)\n",
    "\n",
    "ndvis = [mask]\n",
    "for year in years:\n",
    "    name = f\"NDVI{year}\"\n",
    "    ndvi = images[year].select(['NDVI']).mask(mask).rename(name)\n",
    "    ndvis.append(ndvi)\n",
    "\n",
    "ndvi_image = ee.Image.cat(ndvis)\n",
    "\n",
    "name_first = f\"NDVI{years[0]}\"\n",
    "name_last = f\"NDVI{years[-1]}\"\n",
    "\n",
    "ndvi_diff = ndvi_image.expression(f'b(\"{name_last}\")-b(\"{name_first}\")').rename('DIFF')\n",
    "ndvi_diff_per = ndvi_image.expression(f'(b(\"{name_last}\")-b(\"{name_first}\"))/((b(\"{name_last}\")+b(\"{name_first}\"))/2)').rename('DIFF_PER')\n",
    "\n",
    "ndvi_image = ndvi_image.addBands(ndvi_diff).addBands(ndvi_diff_per)\n",
    "\n",
    "ndvi_image.bandNames().getInfo()"
   ]
  },
  {
   "cell_type": "code",
   "execution_count": null,
   "metadata": {},
   "outputs": [],
   "source": [
    "rgb_vis = {\"bands\": [\"B4\", \"B3\", \"B2\"], \"min\": 0, \"max\": 0.3}\n",
    "ndvi_change_vis = {\"min\": -1, \"max\": 1, \"palette\": [\"red\", \"white\", \"green\"]}\n",
    "ndvi_vis = {\"bands\": [\"NDVI\"], \"min\": 0, \"max\": 1, \"palette\": cm.palettes.ndvi}\n",
    "\n",
    "map = geemap.Map(center=[55.71782880151228, 37.62268066406251], zoom=8, height=1000)\n",
    "\n",
    "# for year, image in images.items():\n",
    "#     map.addLayer(image, rgb_vis, f\"{year}\")\n",
    "    \n",
    "for year, image in images.items():\n",
    "    map.addLayer(image, ndvi_vis, f\"{year} NDVI\")\n",
    "\n",
    "map.addLayer(ndvi_image, {\"bands\": [\"DIFF\"], **ndvi_change_vis}, f\"NDVI DIFF\")\n",
    "# map.addLayer(ndvi_image, {\"bands\": [\"DIFF_PER\"], **ndvi_change_vis}, f\"NDVI DIFF (%)\")\n",
    "map.addLayer(districts.style(**{'color': '5b5b5b', 'width': 0.2, 'fillColor': '00000000'}), {}, \"Moscow Districts\")\n",
    "map"
   ]
  },
  {
   "cell_type": "code",
   "execution_count": null,
   "metadata": {},
   "outputs": [],
   "source": [
    "districts_ndvi = districts\n",
    "for year in years:\n",
    "    districts_ndvi = ndvi_image.select([f'NDVI{year}']) \\\n",
    "        .reduceRegions(\n",
    "            collection = districts_ndvi,\n",
    "            reducer=ee.Reducer.mean().setOutputs([f\"NDVI{year}\"]),\n",
    "            scale=30,\n",
    "            crs='EPSG:4326'\n",
    "        )\n",
    "    \n",
    "\n",
    "districts_ndvi = ndvi_image.select(['DIFF']) \\\n",
    "    .reduceRegions(\n",
    "        collection = districts_ndvi,\n",
    "        reducer=ee.Reducer.mean().setOutputs([f\"NDVI_DIFF\"]),\n",
    "        scale=30,\n",
    "        crs='EPSG:4326'\n",
    "    )\n"
   ]
  },
  {
   "cell_type": "code",
   "execution_count": null,
   "metadata": {},
   "outputs": [],
   "source": [
    "gdf = geemap.ee_to_gdf(districts_ndvi)\n",
    "gdf = gdf.sort_values(by='NDVI_DIFF').reset_index(drop=True)\n",
    "print(gdf[['NAME', 'NAME_AO', 'NDVI_DIFF']].to_markdown())\n"
   ]
  },
  {
   "cell_type": "code",
   "execution_count": null,
   "metadata": {},
   "outputs": [],
   "source": [
    "bands = []\n",
    "for year in years:\n",
    "    name = f\"NDVI{year}\"\n",
    "    bands.append(name)\n",
    "\n",
    "bands.append(\"DIFF\")\n",
    "\n",
    "task = ee.batch.Export.image.toDrive(\n",
    "    image=ndvi_image.select(bands),\n",
    "    description=f'NDVI-{years[0]}-{years[-1]}',\n",
    "    scale=30, \n",
    "    crs='EPSG:4326',\n",
    "    maxPixels = 892227573612\n",
    ")\n",
    "task.start()"
   ]
  },
  {
   "cell_type": "code",
   "execution_count": null,
   "metadata": {},
   "outputs": [],
   "source": [
    "print(task.status())"
   ]
  }
 ],
 "metadata": {
  "kernelspec": {
   "display_name": "geo",
   "language": "python",
   "name": "python3"
  },
  "language_info": {
   "codemirror_mode": {
    "name": "ipython",
    "version": 3
   },
   "file_extension": ".py",
   "mimetype": "text/x-python",
   "name": "python",
   "nbconvert_exporter": "python",
   "pygments_lexer": "ipython3",
   "version": "3.11.11"
  }
 },
 "nbformat": 4,
 "nbformat_minor": 2
}
