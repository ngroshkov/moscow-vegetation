{
 "cells": [
  {
   "cell_type": "code",
   "execution_count": 1,
   "metadata": {},
   "outputs": [
    {
     "name": "stdout",
     "output_type": "stream",
     "text": [
      "Requirement already satisfied: geemap[workshop] in /home/kln/miniconda3/envs/geo/lib/python3.11/site-packages (0.35.3)\n",
      "Requirement already satisfied: bqplot in /home/kln/miniconda3/envs/geo/lib/python3.11/site-packages (from geemap[workshop]) (0.12.43)\n",
      "Requirement already satisfied: colour in /home/kln/miniconda3/envs/geo/lib/python3.11/site-packages (from geemap[workshop]) (0.1.5)\n",
      "Requirement already satisfied: earthengine-api>=1.0.0 in /home/kln/miniconda3/envs/geo/lib/python3.11/site-packages (from geemap[workshop]) (1.4.3)\n",
      "Requirement already satisfied: eerepr>=0.1.0 in /home/kln/miniconda3/envs/geo/lib/python3.11/site-packages (from geemap[workshop]) (0.1.1)\n",
      "Requirement already satisfied: folium>=0.17.0 in /home/kln/miniconda3/envs/geo/lib/python3.11/site-packages (from geemap[workshop]) (0.19.2)\n",
      "Requirement already satisfied: geocoder in /home/kln/miniconda3/envs/geo/lib/python3.11/site-packages (from geemap[workshop]) (1.38.1)\n",
      "Requirement already satisfied: ipyevents in /home/kln/miniconda3/envs/geo/lib/python3.11/site-packages (from geemap[workshop]) (2.0.2)\n",
      "Requirement already satisfied: ipyfilechooser>=0.6.0 in /home/kln/miniconda3/envs/geo/lib/python3.11/site-packages (from geemap[workshop]) (0.6.0)\n",
      "Requirement already satisfied: ipyleaflet>=0.19.2 in /home/kln/miniconda3/envs/geo/lib/python3.11/site-packages (from geemap[workshop]) (0.19.2)\n",
      "Requirement already satisfied: ipytree in /home/kln/miniconda3/envs/geo/lib/python3.11/site-packages (from geemap[workshop]) (0.2.2)\n",
      "Requirement already satisfied: matplotlib in /home/kln/miniconda3/envs/geo/lib/python3.11/site-packages (from geemap[workshop]) (3.10.0)\n",
      "Requirement already satisfied: numpy in /home/kln/miniconda3/envs/geo/lib/python3.11/site-packages (from geemap[workshop]) (1.26.4)\n",
      "Requirement already satisfied: pandas in /home/kln/miniconda3/envs/geo/lib/python3.11/site-packages (from geemap[workshop]) (2.2.3)\n",
      "Requirement already satisfied: plotly in /home/kln/miniconda3/envs/geo/lib/python3.11/site-packages (from geemap[workshop]) (5.24.1)\n",
      "Requirement already satisfied: pyperclip in /home/kln/miniconda3/envs/geo/lib/python3.11/site-packages (from geemap[workshop]) (1.8.2)\n",
      "Requirement already satisfied: pyshp>=2.3.1 in /home/kln/miniconda3/envs/geo/lib/python3.11/site-packages (from geemap[workshop]) (2.3.1)\n",
      "Requirement already satisfied: python-box in /home/kln/miniconda3/envs/geo/lib/python3.11/site-packages (from geemap[workshop]) (7.3.0)\n",
      "Requirement already satisfied: scooby in /home/kln/miniconda3/envs/geo/lib/python3.11/site-packages (from geemap[workshop]) (0.10.0)\n",
      "Requirement already satisfied: geopandas in /home/kln/miniconda3/envs/geo/lib/python3.11/site-packages (from geemap[workshop]) (1.0.1)\n",
      "Requirement already satisfied: geedim in /home/kln/miniconda3/envs/geo/lib/python3.11/site-packages (from geemap[workshop]) (1.9.0)\n",
      "Requirement already satisfied: ffmpeg-python in /home/kln/miniconda3/envs/geo/lib/python3.11/site-packages (from geemap[workshop]) (0.2.0)\n",
      "Requirement already satisfied: gdown in /home/kln/miniconda3/envs/geo/lib/python3.11/site-packages (from geemap[workshop]) (5.2.0)\n",
      "Requirement already satisfied: google-cloud-storage in /home/kln/miniconda3/envs/geo/lib/python3.11/site-packages (from earthengine-api>=1.0.0->geemap[workshop]) (2.19.0)\n",
      "Requirement already satisfied: google-api-python-client>=1.12.1 in /home/kln/miniconda3/envs/geo/lib/python3.11/site-packages (from earthengine-api>=1.0.0->geemap[workshop]) (2.155.0)\n",
      "Requirement already satisfied: google-auth>=1.4.1 in /home/kln/miniconda3/envs/geo/lib/python3.11/site-packages (from earthengine-api>=1.0.0->geemap[workshop]) (2.37.0)\n",
      "Requirement already satisfied: google-auth-httplib2>=0.0.3 in /home/kln/miniconda3/envs/geo/lib/python3.11/site-packages (from earthengine-api>=1.0.0->geemap[workshop]) (0.2.0)\n",
      "Requirement already satisfied: httplib2<1dev,>=0.9.2 in /home/kln/miniconda3/envs/geo/lib/python3.11/site-packages (from earthengine-api>=1.0.0->geemap[workshop]) (0.22.0)\n",
      "Requirement already satisfied: requests in /home/kln/miniconda3/envs/geo/lib/python3.11/site-packages (from earthengine-api>=1.0.0->geemap[workshop]) (2.32.3)\n",
      "Requirement already satisfied: branca>=0.6.0 in /home/kln/miniconda3/envs/geo/lib/python3.11/site-packages (from folium>=0.17.0->geemap[workshop]) (0.8.1)\n",
      "Requirement already satisfied: jinja2>=2.9 in /home/kln/miniconda3/envs/geo/lib/python3.11/site-packages (from folium>=0.17.0->geemap[workshop]) (3.1.4)\n",
      "Requirement already satisfied: xyzservices in /home/kln/miniconda3/envs/geo/lib/python3.11/site-packages (from folium>=0.17.0->geemap[workshop]) (2024.9.0)\n",
      "Requirement already satisfied: ipywidgets in /home/kln/miniconda3/envs/geo/lib/python3.11/site-packages (from ipyfilechooser>=0.6.0->geemap[workshop]) (7.8.5)\n",
      "Requirement already satisfied: jupyter-leaflet<0.20,>=0.19 in /home/kln/miniconda3/envs/geo/lib/python3.11/site-packages (from ipyleaflet>=0.19.2->geemap[workshop]) (0.19.2)\n",
      "Requirement already satisfied: traittypes<3,>=0.2.1 in /home/kln/miniconda3/envs/geo/lib/python3.11/site-packages (from ipyleaflet>=0.19.2->geemap[workshop]) (0.2.1)\n",
      "Requirement already satisfied: traitlets>=4.3.0 in /home/kln/miniconda3/envs/geo/lib/python3.11/site-packages (from bqplot->geemap[workshop]) (5.14.3)\n",
      "Requirement already satisfied: python-dateutil>=2.8.2 in /home/kln/miniconda3/envs/geo/lib/python3.11/site-packages (from pandas->geemap[workshop]) (2.9.0.post0)\n",
      "Requirement already satisfied: pytz>=2020.1 in /home/kln/miniconda3/envs/geo/lib/python3.11/site-packages (from pandas->geemap[workshop]) (2024.1)\n",
      "Requirement already satisfied: tzdata>=2022.7 in /home/kln/miniconda3/envs/geo/lib/python3.11/site-packages (from pandas->geemap[workshop]) (2024.2)\n",
      "Requirement already satisfied: future in /home/kln/miniconda3/envs/geo/lib/python3.11/site-packages (from ffmpeg-python->geemap[workshop]) (1.0.0)\n",
      "Requirement already satisfied: beautifulsoup4 in /home/kln/miniconda3/envs/geo/lib/python3.11/site-packages (from gdown->geemap[workshop]) (4.12.3)\n",
      "Requirement already satisfied: filelock in /home/kln/miniconda3/envs/geo/lib/python3.11/site-packages (from gdown->geemap[workshop]) (3.16.1)\n",
      "Requirement already satisfied: tqdm in /home/kln/miniconda3/envs/geo/lib/python3.11/site-packages (from gdown->geemap[workshop]) (4.67.1)\n",
      "Requirement already satisfied: rasterio>=1.3.8 in /home/kln/miniconda3/envs/geo/lib/python3.11/site-packages (from geedim->geemap[workshop]) (1.4.3)\n",
      "Requirement already satisfied: click>=8 in /home/kln/miniconda3/envs/geo/lib/python3.11/site-packages (from geedim->geemap[workshop]) (8.1.8)\n",
      "Requirement already satisfied: tabulate>=0.8 in /home/kln/miniconda3/envs/geo/lib/python3.11/site-packages (from geedim->geemap[workshop]) (0.9.0)\n",
      "Requirement already satisfied: ratelim in /home/kln/miniconda3/envs/geo/lib/python3.11/site-packages (from geocoder->geemap[workshop]) (0.1.6)\n",
      "Requirement already satisfied: six in /home/kln/miniconda3/envs/geo/lib/python3.11/site-packages (from geocoder->geemap[workshop]) (1.17.0)\n",
      "Requirement already satisfied: pyogrio>=0.7.2 in /home/kln/miniconda3/envs/geo/lib/python3.11/site-packages (from geopandas->geemap[workshop]) (0.10.0)\n",
      "Requirement already satisfied: packaging in /home/kln/miniconda3/envs/geo/lib/python3.11/site-packages (from geopandas->geemap[workshop]) (24.2)\n",
      "Requirement already satisfied: pyproj>=3.3.0 in /home/kln/miniconda3/envs/geo/lib/python3.11/site-packages (from geopandas->geemap[workshop]) (3.6.1)\n",
      "Requirement already satisfied: shapely>=2.0.0 in /home/kln/miniconda3/envs/geo/lib/python3.11/site-packages (from geopandas->geemap[workshop]) (2.0.6)\n",
      "Requirement already satisfied: contourpy>=1.0.1 in /home/kln/miniconda3/envs/geo/lib/python3.11/site-packages (from matplotlib->geemap[workshop]) (1.3.1)\n",
      "Requirement already satisfied: cycler>=0.10 in /home/kln/miniconda3/envs/geo/lib/python3.11/site-packages (from matplotlib->geemap[workshop]) (0.12.1)\n",
      "Requirement already satisfied: fonttools>=4.22.0 in /home/kln/miniconda3/envs/geo/lib/python3.11/site-packages (from matplotlib->geemap[workshop]) (4.55.3)\n",
      "Requirement already satisfied: kiwisolver>=1.3.1 in /home/kln/miniconda3/envs/geo/lib/python3.11/site-packages (from matplotlib->geemap[workshop]) (1.4.7)\n",
      "Requirement already satisfied: pillow>=8 in /home/kln/miniconda3/envs/geo/lib/python3.11/site-packages (from matplotlib->geemap[workshop]) (11.0.0)\n",
      "Requirement already satisfied: pyparsing>=2.3.1 in /home/kln/miniconda3/envs/geo/lib/python3.11/site-packages (from matplotlib->geemap[workshop]) (3.2.0)\n",
      "Requirement already satisfied: tenacity>=6.2.0 in /home/kln/miniconda3/envs/geo/lib/python3.11/site-packages (from plotly->geemap[workshop]) (9.0.0)\n",
      "Requirement already satisfied: google-api-core!=2.0.*,!=2.1.*,!=2.2.*,!=2.3.0,<3.0.0.dev0,>=1.31.5 in /home/kln/miniconda3/envs/geo/lib/python3.11/site-packages (from google-api-python-client>=1.12.1->earthengine-api>=1.0.0->geemap[workshop]) (2.24.0)\n",
      "Requirement already satisfied: uritemplate<5,>=3.0.1 in /home/kln/miniconda3/envs/geo/lib/python3.11/site-packages (from google-api-python-client>=1.12.1->earthengine-api>=1.0.0->geemap[workshop]) (4.1.1)\n",
      "Requirement already satisfied: cachetools<6.0,>=2.0.0 in /home/kln/miniconda3/envs/geo/lib/python3.11/site-packages (from google-auth>=1.4.1->earthengine-api>=1.0.0->geemap[workshop]) (5.5.0)\n",
      "Requirement already satisfied: pyasn1-modules>=0.2.1 in /home/kln/miniconda3/envs/geo/lib/python3.11/site-packages (from google-auth>=1.4.1->earthengine-api>=1.0.0->geemap[workshop]) (0.4.1)\n",
      "Requirement already satisfied: rsa<5,>=3.1.4 in /home/kln/miniconda3/envs/geo/lib/python3.11/site-packages (from google-auth>=1.4.1->earthengine-api>=1.0.0->geemap[workshop]) (4.9)\n",
      "Requirement already satisfied: comm>=0.1.3 in /home/kln/miniconda3/envs/geo/lib/python3.11/site-packages (from ipywidgets->ipyfilechooser>=0.6.0->geemap[workshop]) (0.2.2)\n",
      "Requirement already satisfied: ipython-genutils~=0.2.0 in /home/kln/miniconda3/envs/geo/lib/python3.11/site-packages (from ipywidgets->ipyfilechooser>=0.6.0->geemap[workshop]) (0.2.0)\n",
      "Requirement already satisfied: widgetsnbextension~=3.6.10 in /home/kln/miniconda3/envs/geo/lib/python3.11/site-packages (from ipywidgets->ipyfilechooser>=0.6.0->geemap[workshop]) (3.6.10)\n",
      "Requirement already satisfied: ipython>=4.0.0 in /home/kln/miniconda3/envs/geo/lib/python3.11/site-packages (from ipywidgets->ipyfilechooser>=0.6.0->geemap[workshop]) (8.30.0)\n",
      "Requirement already satisfied: jupyterlab-widgets<3,>=1.0.0 in /home/kln/miniconda3/envs/geo/lib/python3.11/site-packages (from ipywidgets->ipyfilechooser>=0.6.0->geemap[workshop]) (1.1.11)\n",
      "Requirement already satisfied: MarkupSafe>=2.0 in /home/kln/miniconda3/envs/geo/lib/python3.11/site-packages (from jinja2>=2.9->folium>=0.17.0->geemap[workshop]) (3.0.2)\n",
      "Requirement already satisfied: certifi in /home/kln/miniconda3/envs/geo/lib/python3.11/site-packages (from pyogrio>=0.7.2->geopandas->geemap[workshop]) (2024.12.14)\n",
      "Requirement already satisfied: affine in /home/kln/miniconda3/envs/geo/lib/python3.11/site-packages (from rasterio>=1.3.8->geedim->geemap[workshop]) (2.4.0)\n",
      "Requirement already satisfied: attrs in /home/kln/miniconda3/envs/geo/lib/python3.11/site-packages (from rasterio>=1.3.8->geedim->geemap[workshop]) (24.3.0)\n",
      "Requirement already satisfied: cligj>=0.5 in /home/kln/miniconda3/envs/geo/lib/python3.11/site-packages (from rasterio>=1.3.8->geedim->geemap[workshop]) (0.7.2)\n",
      "Requirement already satisfied: click-plugins in /home/kln/miniconda3/envs/geo/lib/python3.11/site-packages (from rasterio>=1.3.8->geedim->geemap[workshop]) (1.1.1)\n",
      "Requirement already satisfied: charset_normalizer<4,>=2 in /home/kln/miniconda3/envs/geo/lib/python3.11/site-packages (from requests->earthengine-api>=1.0.0->geemap[workshop]) (3.4.0)\n",
      "Requirement already satisfied: idna<4,>=2.5 in /home/kln/miniconda3/envs/geo/lib/python3.11/site-packages (from requests->earthengine-api>=1.0.0->geemap[workshop]) (3.10)\n",
      "Requirement already satisfied: urllib3<3,>=1.21.1 in /home/kln/miniconda3/envs/geo/lib/python3.11/site-packages (from requests->earthengine-api>=1.0.0->geemap[workshop]) (2.2.3)\n",
      "Requirement already satisfied: soupsieve>1.2 in /home/kln/miniconda3/envs/geo/lib/python3.11/site-packages (from beautifulsoup4->gdown->geemap[workshop]) (2.5)\n",
      "Requirement already satisfied: google-cloud-core<3.0dev,>=2.3.0 in /home/kln/miniconda3/envs/geo/lib/python3.11/site-packages (from google-cloud-storage->earthengine-api>=1.0.0->geemap[workshop]) (2.4.1)\n",
      "Requirement already satisfied: google-resumable-media>=2.7.2 in /home/kln/miniconda3/envs/geo/lib/python3.11/site-packages (from google-cloud-storage->earthengine-api>=1.0.0->geemap[workshop]) (2.7.2)\n",
      "Requirement already satisfied: google-crc32c<2.0dev,>=1.0 in /home/kln/miniconda3/envs/geo/lib/python3.11/site-packages (from google-cloud-storage->earthengine-api>=1.0.0->geemap[workshop]) (1.1.2)\n",
      "Requirement already satisfied: decorator in /home/kln/miniconda3/envs/geo/lib/python3.11/site-packages (from ratelim->geocoder->geemap[workshop]) (5.1.1)\n",
      "Requirement already satisfied: PySocks!=1.5.7,>=1.5.6 in /home/kln/miniconda3/envs/geo/lib/python3.11/site-packages (from requests[socks]->gdown->geemap[workshop]) (1.7.1)\n",
      "Requirement already satisfied: googleapis-common-protos<2.0.dev0,>=1.56.2 in /home/kln/miniconda3/envs/geo/lib/python3.11/site-packages (from google-api-core!=2.0.*,!=2.1.*,!=2.2.*,!=2.3.0,<3.0.0.dev0,>=1.31.5->google-api-python-client>=1.12.1->earthengine-api>=1.0.0->geemap[workshop]) (1.66.0)\n",
      "Requirement already satisfied: protobuf!=3.20.0,!=3.20.1,!=4.21.0,!=4.21.1,!=4.21.2,!=4.21.3,!=4.21.4,!=4.21.5,<6.0.0.dev0,>=3.19.5 in /home/kln/miniconda3/envs/geo/lib/python3.11/site-packages (from google-api-core!=2.0.*,!=2.1.*,!=2.2.*,!=2.3.0,<3.0.0.dev0,>=1.31.5->google-api-python-client>=1.12.1->earthengine-api>=1.0.0->geemap[workshop]) (4.25.3)\n",
      "Requirement already satisfied: proto-plus<2.0.0dev,>=1.22.3 in /home/kln/miniconda3/envs/geo/lib/python3.11/site-packages (from google-api-core!=2.0.*,!=2.1.*,!=2.2.*,!=2.3.0,<3.0.0.dev0,>=1.31.5->google-api-python-client>=1.12.1->earthengine-api>=1.0.0->geemap[workshop]) (1.25.0)\n",
      "Requirement already satisfied: cffi>=1.0.0 in /home/kln/miniconda3/envs/geo/lib/python3.11/site-packages (from google-crc32c<2.0dev,>=1.0->google-cloud-storage->earthengine-api>=1.0.0->geemap[workshop]) (1.17.1)\n",
      "Requirement already satisfied: jedi>=0.16 in /home/kln/miniconda3/envs/geo/lib/python3.11/site-packages (from ipython>=4.0.0->ipywidgets->ipyfilechooser>=0.6.0->geemap[workshop]) (0.19.2)\n",
      "Requirement already satisfied: matplotlib-inline in /home/kln/miniconda3/envs/geo/lib/python3.11/site-packages (from ipython>=4.0.0->ipywidgets->ipyfilechooser>=0.6.0->geemap[workshop]) (0.1.7)\n",
      "Requirement already satisfied: pexpect>4.3 in /home/kln/miniconda3/envs/geo/lib/python3.11/site-packages (from ipython>=4.0.0->ipywidgets->ipyfilechooser>=0.6.0->geemap[workshop]) (4.9.0)\n",
      "Requirement already satisfied: prompt_toolkit<3.1.0,>=3.0.41 in /home/kln/miniconda3/envs/geo/lib/python3.11/site-packages (from ipython>=4.0.0->ipywidgets->ipyfilechooser>=0.6.0->geemap[workshop]) (3.0.48)\n",
      "Requirement already satisfied: pygments>=2.4.0 in /home/kln/miniconda3/envs/geo/lib/python3.11/site-packages (from ipython>=4.0.0->ipywidgets->ipyfilechooser>=0.6.0->geemap[workshop]) (2.18.0)\n",
      "Requirement already satisfied: stack_data in /home/kln/miniconda3/envs/geo/lib/python3.11/site-packages (from ipython>=4.0.0->ipywidgets->ipyfilechooser>=0.6.0->geemap[workshop]) (0.6.3)\n",
      "Requirement already satisfied: typing_extensions>=4.6 in /home/kln/miniconda3/envs/geo/lib/python3.11/site-packages (from ipython>=4.0.0->ipywidgets->ipyfilechooser>=0.6.0->geemap[workshop]) (4.12.2)\n",
      "Requirement already satisfied: pyasn1<0.7.0,>=0.4.6 in /home/kln/miniconda3/envs/geo/lib/python3.11/site-packages (from pyasn1-modules>=0.2.1->google-auth>=1.4.1->earthengine-api>=1.0.0->geemap[workshop]) (0.6.1)\n",
      "Requirement already satisfied: notebook>=4.4.1 in /home/kln/miniconda3/envs/geo/lib/python3.11/site-packages (from widgetsnbextension~=3.6.10->ipywidgets->ipyfilechooser>=0.6.0->geemap[workshop]) (7.3.3)\n",
      "Requirement already satisfied: pycparser in /home/kln/miniconda3/envs/geo/lib/python3.11/site-packages (from cffi>=1.0.0->google-crc32c<2.0dev,>=1.0->google-cloud-storage->earthengine-api>=1.0.0->geemap[workshop]) (2.22)\n",
      "Requirement already satisfied: parso<0.9.0,>=0.8.4 in /home/kln/miniconda3/envs/geo/lib/python3.11/site-packages (from jedi>=0.16->ipython>=4.0.0->ipywidgets->ipyfilechooser>=0.6.0->geemap[workshop]) (0.8.4)\n",
      "Requirement already satisfied: jupyter-server<3,>=2.4.0 in /home/kln/miniconda3/envs/geo/lib/python3.11/site-packages (from notebook>=4.4.1->widgetsnbextension~=3.6.10->ipywidgets->ipyfilechooser>=0.6.0->geemap[workshop]) (2.14.2)\n",
      "Requirement already satisfied: jupyterlab-server<3,>=2.27.1 in /home/kln/miniconda3/envs/geo/lib/python3.11/site-packages (from notebook>=4.4.1->widgetsnbextension~=3.6.10->ipywidgets->ipyfilechooser>=0.6.0->geemap[workshop]) (2.27.3)\n",
      "Requirement already satisfied: jupyterlab<4.4,>=4.3.6 in /home/kln/miniconda3/envs/geo/lib/python3.11/site-packages (from notebook>=4.4.1->widgetsnbextension~=3.6.10->ipywidgets->ipyfilechooser>=0.6.0->geemap[workshop]) (4.3.6)\n",
      "Requirement already satisfied: notebook-shim<0.3,>=0.2 in /home/kln/miniconda3/envs/geo/lib/python3.11/site-packages (from notebook>=4.4.1->widgetsnbextension~=3.6.10->ipywidgets->ipyfilechooser>=0.6.0->geemap[workshop]) (0.2.4)\n",
      "Requirement already satisfied: tornado>=6.2.0 in /home/kln/miniconda3/envs/geo/lib/python3.11/site-packages (from notebook>=4.4.1->widgetsnbextension~=3.6.10->ipywidgets->ipyfilechooser>=0.6.0->geemap[workshop]) (6.4.2)\n",
      "Requirement already satisfied: ptyprocess>=0.5 in /home/kln/miniconda3/envs/geo/lib/python3.11/site-packages (from pexpect>4.3->ipython>=4.0.0->ipywidgets->ipyfilechooser>=0.6.0->geemap[workshop]) (0.7.0)\n",
      "Requirement already satisfied: wcwidth in /home/kln/miniconda3/envs/geo/lib/python3.11/site-packages (from prompt_toolkit<3.1.0,>=3.0.41->ipython>=4.0.0->ipywidgets->ipyfilechooser>=0.6.0->geemap[workshop]) (0.2.13)\n",
      "Requirement already satisfied: executing>=1.2.0 in /home/kln/miniconda3/envs/geo/lib/python3.11/site-packages (from stack_data->ipython>=4.0.0->ipywidgets->ipyfilechooser>=0.6.0->geemap[workshop]) (2.1.0)\n",
      "Requirement already satisfied: asttokens>=2.1.0 in /home/kln/miniconda3/envs/geo/lib/python3.11/site-packages (from stack_data->ipython>=4.0.0->ipywidgets->ipyfilechooser>=0.6.0->geemap[workshop]) (3.0.0)\n",
      "Requirement already satisfied: pure_eval in /home/kln/miniconda3/envs/geo/lib/python3.11/site-packages (from stack_data->ipython>=4.0.0->ipywidgets->ipyfilechooser>=0.6.0->geemap[workshop]) (0.2.3)\n",
      "Requirement already satisfied: anyio>=3.1.0 in /home/kln/miniconda3/envs/geo/lib/python3.11/site-packages (from jupyter-server<3,>=2.4.0->notebook>=4.4.1->widgetsnbextension~=3.6.10->ipywidgets->ipyfilechooser>=0.6.0->geemap[workshop]) (4.7.0)\n",
      "Requirement already satisfied: argon2-cffi>=21.1 in /home/kln/miniconda3/envs/geo/lib/python3.11/site-packages (from jupyter-server<3,>=2.4.0->notebook>=4.4.1->widgetsnbextension~=3.6.10->ipywidgets->ipyfilechooser>=0.6.0->geemap[workshop]) (23.1.0)\n",
      "Requirement already satisfied: jupyter-client>=7.4.4 in /home/kln/miniconda3/envs/geo/lib/python3.11/site-packages (from jupyter-server<3,>=2.4.0->notebook>=4.4.1->widgetsnbextension~=3.6.10->ipywidgets->ipyfilechooser>=0.6.0->geemap[workshop]) (8.6.3)\n",
      "Requirement already satisfied: jupyter-core!=5.0.*,>=4.12 in /home/kln/miniconda3/envs/geo/lib/python3.11/site-packages (from jupyter-server<3,>=2.4.0->notebook>=4.4.1->widgetsnbextension~=3.6.10->ipywidgets->ipyfilechooser>=0.6.0->geemap[workshop]) (5.7.2)\n",
      "Requirement already satisfied: jupyter-events>=0.9.0 in /home/kln/miniconda3/envs/geo/lib/python3.11/site-packages (from jupyter-server<3,>=2.4.0->notebook>=4.4.1->widgetsnbextension~=3.6.10->ipywidgets->ipyfilechooser>=0.6.0->geemap[workshop]) (0.11.0)\n",
      "Requirement already satisfied: jupyter-server-terminals>=0.4.4 in /home/kln/miniconda3/envs/geo/lib/python3.11/site-packages (from jupyter-server<3,>=2.4.0->notebook>=4.4.1->widgetsnbextension~=3.6.10->ipywidgets->ipyfilechooser>=0.6.0->geemap[workshop]) (0.5.3)\n",
      "Requirement already satisfied: nbconvert>=6.4.4 in /home/kln/miniconda3/envs/geo/lib/python3.11/site-packages (from jupyter-server<3,>=2.4.0->notebook>=4.4.1->widgetsnbextension~=3.6.10->ipywidgets->ipyfilechooser>=0.6.0->geemap[workshop]) (7.16.4)\n",
      "Requirement already satisfied: nbformat>=5.3.0 in /home/kln/miniconda3/envs/geo/lib/python3.11/site-packages (from jupyter-server<3,>=2.4.0->notebook>=4.4.1->widgetsnbextension~=3.6.10->ipywidgets->ipyfilechooser>=0.6.0->geemap[workshop]) (5.10.4)\n",
      "Requirement already satisfied: overrides>=5.0 in /home/kln/miniconda3/envs/geo/lib/python3.11/site-packages (from jupyter-server<3,>=2.4.0->notebook>=4.4.1->widgetsnbextension~=3.6.10->ipywidgets->ipyfilechooser>=0.6.0->geemap[workshop]) (7.7.0)\n",
      "Requirement already satisfied: prometheus-client>=0.9 in /home/kln/miniconda3/envs/geo/lib/python3.11/site-packages (from jupyter-server<3,>=2.4.0->notebook>=4.4.1->widgetsnbextension~=3.6.10->ipywidgets->ipyfilechooser>=0.6.0->geemap[workshop]) (0.21.1)\n",
      "Requirement already satisfied: pyzmq>=24 in /home/kln/miniconda3/envs/geo/lib/python3.11/site-packages (from jupyter-server<3,>=2.4.0->notebook>=4.4.1->widgetsnbextension~=3.6.10->ipywidgets->ipyfilechooser>=0.6.0->geemap[workshop]) (25.1.2)\n",
      "Requirement already satisfied: send2trash>=1.8.2 in /home/kln/miniconda3/envs/geo/lib/python3.11/site-packages (from jupyter-server<3,>=2.4.0->notebook>=4.4.1->widgetsnbextension~=3.6.10->ipywidgets->ipyfilechooser>=0.6.0->geemap[workshop]) (1.8.3)\n",
      "Requirement already satisfied: terminado>=0.8.3 in /home/kln/miniconda3/envs/geo/lib/python3.11/site-packages (from jupyter-server<3,>=2.4.0->notebook>=4.4.1->widgetsnbextension~=3.6.10->ipywidgets->ipyfilechooser>=0.6.0->geemap[workshop]) (0.18.1)\n",
      "Requirement already satisfied: websocket-client>=1.7 in /home/kln/miniconda3/envs/geo/lib/python3.11/site-packages (from jupyter-server<3,>=2.4.0->notebook>=4.4.1->widgetsnbextension~=3.6.10->ipywidgets->ipyfilechooser>=0.6.0->geemap[workshop]) (1.8.0)\n",
      "Requirement already satisfied: async-lru>=1.0.0 in /home/kln/miniconda3/envs/geo/lib/python3.11/site-packages (from jupyterlab<4.4,>=4.3.6->notebook>=4.4.1->widgetsnbextension~=3.6.10->ipywidgets->ipyfilechooser>=0.6.0->geemap[workshop]) (2.0.4)\n",
      "Requirement already satisfied: httpx>=0.25.0 in /home/kln/miniconda3/envs/geo/lib/python3.11/site-packages (from jupyterlab<4.4,>=4.3.6->notebook>=4.4.1->widgetsnbextension~=3.6.10->ipywidgets->ipyfilechooser>=0.6.0->geemap[workshop]) (0.28.1)\n",
      "Requirement already satisfied: ipykernel>=6.5.0 in /home/kln/miniconda3/envs/geo/lib/python3.11/site-packages (from jupyterlab<4.4,>=4.3.6->notebook>=4.4.1->widgetsnbextension~=3.6.10->ipywidgets->ipyfilechooser>=0.6.0->geemap[workshop]) (6.29.5)\n",
      "Requirement already satisfied: jupyter-lsp>=2.0.0 in /home/kln/miniconda3/envs/geo/lib/python3.11/site-packages (from jupyterlab<4.4,>=4.3.6->notebook>=4.4.1->widgetsnbextension~=3.6.10->ipywidgets->ipyfilechooser>=0.6.0->geemap[workshop]) (2.2.5)\n",
      "Requirement already satisfied: setuptools>=40.8.0 in /home/kln/miniconda3/envs/geo/lib/python3.11/site-packages (from jupyterlab<4.4,>=4.3.6->notebook>=4.4.1->widgetsnbextension~=3.6.10->ipywidgets->ipyfilechooser>=0.6.0->geemap[workshop]) (75.1.0)\n",
      "Requirement already satisfied: babel>=2.10 in /home/kln/miniconda3/envs/geo/lib/python3.11/site-packages (from jupyterlab-server<3,>=2.27.1->notebook>=4.4.1->widgetsnbextension~=3.6.10->ipywidgets->ipyfilechooser>=0.6.0->geemap[workshop]) (2.16.0)\n",
      "Requirement already satisfied: json5>=0.9.0 in /home/kln/miniconda3/envs/geo/lib/python3.11/site-packages (from jupyterlab-server<3,>=2.27.1->notebook>=4.4.1->widgetsnbextension~=3.6.10->ipywidgets->ipyfilechooser>=0.6.0->geemap[workshop]) (0.10.0)\n",
      "Requirement already satisfied: jsonschema>=4.18.0 in /home/kln/miniconda3/envs/geo/lib/python3.11/site-packages (from jupyterlab-server<3,>=2.27.1->notebook>=4.4.1->widgetsnbextension~=3.6.10->ipywidgets->ipyfilechooser>=0.6.0->geemap[workshop]) (4.23.0)\n",
      "Requirement already satisfied: sniffio>=1.1 in /home/kln/miniconda3/envs/geo/lib/python3.11/site-packages (from anyio>=3.1.0->jupyter-server<3,>=2.4.0->notebook>=4.4.1->widgetsnbextension~=3.6.10->ipywidgets->ipyfilechooser>=0.6.0->geemap[workshop]) (1.3.1)\n",
      "Requirement already satisfied: argon2-cffi-bindings in /home/kln/miniconda3/envs/geo/lib/python3.11/site-packages (from argon2-cffi>=21.1->jupyter-server<3,>=2.4.0->notebook>=4.4.1->widgetsnbextension~=3.6.10->ipywidgets->ipyfilechooser>=0.6.0->geemap[workshop]) (21.2.0)\n",
      "Requirement already satisfied: httpcore==1.* in /home/kln/miniconda3/envs/geo/lib/python3.11/site-packages (from httpx>=0.25.0->jupyterlab<4.4,>=4.3.6->notebook>=4.4.1->widgetsnbextension~=3.6.10->ipywidgets->ipyfilechooser>=0.6.0->geemap[workshop]) (1.0.7)\n",
      "Requirement already satisfied: h11<0.15,>=0.13 in /home/kln/miniconda3/envs/geo/lib/python3.11/site-packages (from httpcore==1.*->httpx>=0.25.0->jupyterlab<4.4,>=4.3.6->notebook>=4.4.1->widgetsnbextension~=3.6.10->ipywidgets->ipyfilechooser>=0.6.0->geemap[workshop]) (0.14.0)\n",
      "Requirement already satisfied: debugpy>=1.6.5 in /home/kln/miniconda3/envs/geo/lib/python3.11/site-packages (from ipykernel>=6.5.0->jupyterlab<4.4,>=4.3.6->notebook>=4.4.1->widgetsnbextension~=3.6.10->ipywidgets->ipyfilechooser>=0.6.0->geemap[workshop]) (1.8.11)\n",
      "Requirement already satisfied: nest-asyncio in /home/kln/miniconda3/envs/geo/lib/python3.11/site-packages (from ipykernel>=6.5.0->jupyterlab<4.4,>=4.3.6->notebook>=4.4.1->widgetsnbextension~=3.6.10->ipywidgets->ipyfilechooser>=0.6.0->geemap[workshop]) (1.6.0)\n",
      "Requirement already satisfied: psutil in /home/kln/miniconda3/envs/geo/lib/python3.11/site-packages (from ipykernel>=6.5.0->jupyterlab<4.4,>=4.3.6->notebook>=4.4.1->widgetsnbextension~=3.6.10->ipywidgets->ipyfilechooser>=0.6.0->geemap[workshop]) (6.1.0)\n",
      "Requirement already satisfied: jsonschema-specifications>=2023.03.6 in /home/kln/miniconda3/envs/geo/lib/python3.11/site-packages (from jsonschema>=4.18.0->jupyterlab-server<3,>=2.27.1->notebook>=4.4.1->widgetsnbextension~=3.6.10->ipywidgets->ipyfilechooser>=0.6.0->geemap[workshop]) (2024.10.1)\n",
      "Requirement already satisfied: referencing>=0.28.4 in /home/kln/miniconda3/envs/geo/lib/python3.11/site-packages (from jsonschema>=4.18.0->jupyterlab-server<3,>=2.27.1->notebook>=4.4.1->widgetsnbextension~=3.6.10->ipywidgets->ipyfilechooser>=0.6.0->geemap[workshop]) (0.35.1)\n",
      "Requirement already satisfied: rpds-py>=0.7.1 in /home/kln/miniconda3/envs/geo/lib/python3.11/site-packages (from jsonschema>=4.18.0->jupyterlab-server<3,>=2.27.1->notebook>=4.4.1->widgetsnbextension~=3.6.10->ipywidgets->ipyfilechooser>=0.6.0->geemap[workshop]) (0.22.3)\n",
      "Requirement already satisfied: platformdirs>=2.5 in /home/kln/miniconda3/envs/geo/lib/python3.11/site-packages (from jupyter-core!=5.0.*,>=4.12->jupyter-server<3,>=2.4.0->notebook>=4.4.1->widgetsnbextension~=3.6.10->ipywidgets->ipyfilechooser>=0.6.0->geemap[workshop]) (4.3.6)\n",
      "Requirement already satisfied: python-json-logger>=2.0.4 in /home/kln/miniconda3/envs/geo/lib/python3.11/site-packages (from jupyter-events>=0.9.0->jupyter-server<3,>=2.4.0->notebook>=4.4.1->widgetsnbextension~=3.6.10->ipywidgets->ipyfilechooser>=0.6.0->geemap[workshop]) (2.0.7)\n",
      "Requirement already satisfied: pyyaml>=5.3 in /home/kln/miniconda3/envs/geo/lib/python3.11/site-packages (from jupyter-events>=0.9.0->jupyter-server<3,>=2.4.0->notebook>=4.4.1->widgetsnbextension~=3.6.10->ipywidgets->ipyfilechooser>=0.6.0->geemap[workshop]) (6.0.2)\n",
      "Requirement already satisfied: rfc3339-validator in /home/kln/miniconda3/envs/geo/lib/python3.11/site-packages (from jupyter-events>=0.9.0->jupyter-server<3,>=2.4.0->notebook>=4.4.1->widgetsnbextension~=3.6.10->ipywidgets->ipyfilechooser>=0.6.0->geemap[workshop]) (0.1.4)\n",
      "Requirement already satisfied: rfc3986-validator>=0.1.1 in /home/kln/miniconda3/envs/geo/lib/python3.11/site-packages (from jupyter-events>=0.9.0->jupyter-server<3,>=2.4.0->notebook>=4.4.1->widgetsnbextension~=3.6.10->ipywidgets->ipyfilechooser>=0.6.0->geemap[workshop]) (0.1.1)\n",
      "Requirement already satisfied: bleach!=5.0.0 in /home/kln/miniconda3/envs/geo/lib/python3.11/site-packages (from nbconvert>=6.4.4->jupyter-server<3,>=2.4.0->notebook>=4.4.1->widgetsnbextension~=3.6.10->ipywidgets->ipyfilechooser>=0.6.0->geemap[workshop]) (6.2.0)\n",
      "Requirement already satisfied: defusedxml in /home/kln/miniconda3/envs/geo/lib/python3.11/site-packages (from nbconvert>=6.4.4->jupyter-server<3,>=2.4.0->notebook>=4.4.1->widgetsnbextension~=3.6.10->ipywidgets->ipyfilechooser>=0.6.0->geemap[workshop]) (0.7.1)\n",
      "Requirement already satisfied: jupyterlab-pygments in /home/kln/miniconda3/envs/geo/lib/python3.11/site-packages (from nbconvert>=6.4.4->jupyter-server<3,>=2.4.0->notebook>=4.4.1->widgetsnbextension~=3.6.10->ipywidgets->ipyfilechooser>=0.6.0->geemap[workshop]) (0.3.0)\n",
      "Requirement already satisfied: mistune<4,>=2.0.3 in /home/kln/miniconda3/envs/geo/lib/python3.11/site-packages (from nbconvert>=6.4.4->jupyter-server<3,>=2.4.0->notebook>=4.4.1->widgetsnbextension~=3.6.10->ipywidgets->ipyfilechooser>=0.6.0->geemap[workshop]) (3.0.2)\n",
      "Requirement already satisfied: nbclient>=0.5.0 in /home/kln/miniconda3/envs/geo/lib/python3.11/site-packages (from nbconvert>=6.4.4->jupyter-server<3,>=2.4.0->notebook>=4.4.1->widgetsnbextension~=3.6.10->ipywidgets->ipyfilechooser>=0.6.0->geemap[workshop]) (0.10.1)\n",
      "Requirement already satisfied: pandocfilters>=1.4.1 in /home/kln/miniconda3/envs/geo/lib/python3.11/site-packages (from nbconvert>=6.4.4->jupyter-server<3,>=2.4.0->notebook>=4.4.1->widgetsnbextension~=3.6.10->ipywidgets->ipyfilechooser>=0.6.0->geemap[workshop]) (1.5.0)\n",
      "Requirement already satisfied: tinycss2 in /home/kln/miniconda3/envs/geo/lib/python3.11/site-packages (from nbconvert>=6.4.4->jupyter-server<3,>=2.4.0->notebook>=4.4.1->widgetsnbextension~=3.6.10->ipywidgets->ipyfilechooser>=0.6.0->geemap[workshop]) (1.4.0)\n",
      "Requirement already satisfied: fastjsonschema>=2.15 in /home/kln/miniconda3/envs/geo/lib/python3.11/site-packages (from nbformat>=5.3.0->jupyter-server<3,>=2.4.0->notebook>=4.4.1->widgetsnbextension~=3.6.10->ipywidgets->ipyfilechooser>=0.6.0->geemap[workshop]) (2.21.1)\n",
      "Requirement already satisfied: webencodings in /home/kln/miniconda3/envs/geo/lib/python3.11/site-packages (from bleach!=5.0.0->nbconvert>=6.4.4->jupyter-server<3,>=2.4.0->notebook>=4.4.1->widgetsnbextension~=3.6.10->ipywidgets->ipyfilechooser>=0.6.0->geemap[workshop]) (0.5.1)\n",
      "Requirement already satisfied: fqdn in /home/kln/miniconda3/envs/geo/lib/python3.11/site-packages (from jsonschema[format-nongpl]>=4.18.0->jupyter-events>=0.9.0->jupyter-server<3,>=2.4.0->notebook>=4.4.1->widgetsnbextension~=3.6.10->ipywidgets->ipyfilechooser>=0.6.0->geemap[workshop]) (1.5.1)\n",
      "Requirement already satisfied: isoduration in /home/kln/miniconda3/envs/geo/lib/python3.11/site-packages (from jsonschema[format-nongpl]>=4.18.0->jupyter-events>=0.9.0->jupyter-server<3,>=2.4.0->notebook>=4.4.1->widgetsnbextension~=3.6.10->ipywidgets->ipyfilechooser>=0.6.0->geemap[workshop]) (20.11.0)\n",
      "Requirement already satisfied: jsonpointer>1.13 in /home/kln/miniconda3/envs/geo/lib/python3.11/site-packages (from jsonschema[format-nongpl]>=4.18.0->jupyter-events>=0.9.0->jupyter-server<3,>=2.4.0->notebook>=4.4.1->widgetsnbextension~=3.6.10->ipywidgets->ipyfilechooser>=0.6.0->geemap[workshop]) (3.0.0)\n",
      "Requirement already satisfied: uri-template in /home/kln/miniconda3/envs/geo/lib/python3.11/site-packages (from jsonschema[format-nongpl]>=4.18.0->jupyter-events>=0.9.0->jupyter-server<3,>=2.4.0->notebook>=4.4.1->widgetsnbextension~=3.6.10->ipywidgets->ipyfilechooser>=0.6.0->geemap[workshop]) (1.3.0)\n",
      "Requirement already satisfied: webcolors>=24.6.0 in /home/kln/miniconda3/envs/geo/lib/python3.11/site-packages (from jsonschema[format-nongpl]>=4.18.0->jupyter-events>=0.9.0->jupyter-server<3,>=2.4.0->notebook>=4.4.1->widgetsnbextension~=3.6.10->ipywidgets->ipyfilechooser>=0.6.0->geemap[workshop]) (24.11.1)\n",
      "Requirement already satisfied: arrow>=0.15.0 in /home/kln/miniconda3/envs/geo/lib/python3.11/site-packages (from isoduration->jsonschema[format-nongpl]>=4.18.0->jupyter-events>=0.9.0->jupyter-server<3,>=2.4.0->notebook>=4.4.1->widgetsnbextension~=3.6.10->ipywidgets->ipyfilechooser>=0.6.0->geemap[workshop]) (1.3.0)\n",
      "Requirement already satisfied: types-python-dateutil>=2.8.10 in /home/kln/miniconda3/envs/geo/lib/python3.11/site-packages (from arrow>=0.15.0->isoduration->jsonschema[format-nongpl]>=4.18.0->jupyter-events>=0.9.0->jupyter-server<3,>=2.4.0->notebook>=4.4.1->widgetsnbextension~=3.6.10->ipywidgets->ipyfilechooser>=0.6.0->geemap[workshop]) (2.9.0.20241206)\n",
      "Note: you may need to restart the kernel to use updated packages.\n"
     ]
    }
   ],
   "source": [
    "%pip install -U \"geemap[workshop]\""
   ]
  },
  {
   "cell_type": "code",
   "execution_count": 2,
   "metadata": {},
   "outputs": [],
   "source": [
    "import ee\n",
    "import geemap\n",
    "import geemap.colormaps as cm\n",
    "from geemap import geojson_to_ee, ee_to_geojson"
   ]
  },
  {
   "cell_type": "code",
   "execution_count": 3,
   "metadata": {},
   "outputs": [
    {
     "data": {
      "text/html": [
       "\n",
       "            <style>\n",
       "                .geemap-dark {\n",
       "                    --jp-widgets-color: white;\n",
       "                    --jp-widgets-label-color: white;\n",
       "                    --jp-ui-font-color1: white;\n",
       "                    --jp-layout-color2: #454545;\n",
       "                    background-color: #383838;\n",
       "                }\n",
       "\n",
       "                .geemap-dark .jupyter-button {\n",
       "                    --jp-layout-color3: #383838;\n",
       "                }\n",
       "\n",
       "                .geemap-colab {\n",
       "                    background-color: var(--colab-primary-surface-color, white);\n",
       "                }\n",
       "\n",
       "                .geemap-colab .jupyter-button {\n",
       "                    --jp-layout-color3: var(--colab-primary-surface-color, white);\n",
       "                }\n",
       "            </style>\n",
       "            "
      ],
      "text/plain": [
       "<IPython.core.display.HTML object>"
      ]
     },
     "metadata": {},
     "output_type": "display_data"
    }
   ],
   "source": [
    "ee.Authenticate()\n",
    "ee.Initialize()"
   ]
  },
  {
   "cell_type": "code",
   "execution_count": 4,
   "metadata": {},
   "outputs": [
    {
     "data": {
      "text/html": [
       "\n",
       "            <style>\n",
       "                .geemap-dark {\n",
       "                    --jp-widgets-color: white;\n",
       "                    --jp-widgets-label-color: white;\n",
       "                    --jp-ui-font-color1: white;\n",
       "                    --jp-layout-color2: #454545;\n",
       "                    background-color: #383838;\n",
       "                }\n",
       "\n",
       "                .geemap-dark .jupyter-button {\n",
       "                    --jp-layout-color3: #383838;\n",
       "                }\n",
       "\n",
       "                .geemap-colab {\n",
       "                    background-color: var(--colab-primary-surface-color, white);\n",
       "                }\n",
       "\n",
       "                .geemap-colab .jupyter-button {\n",
       "                    --jp-layout-color3: var(--colab-primary-surface-color, white);\n",
       "                }\n",
       "            </style>\n",
       "            "
      ],
      "text/plain": [
       "<IPython.core.display.HTML object>"
      ]
     },
     "metadata": {},
     "output_type": "display_data"
    }
   ],
   "source": [
    "import json\n",
    "\n",
    "# City Municipal Districs\n",
    "with open(\"./mo.geojson\") as file:\n",
    "    districts = geojson_to_ee(json.load(file))"
   ]
  },
  {
   "cell_type": "code",
   "execution_count": 5,
   "metadata": {},
   "outputs": [
    {
     "data": {
      "text/html": [
       "\n",
       "            <style>\n",
       "                .geemap-dark {\n",
       "                    --jp-widgets-color: white;\n",
       "                    --jp-widgets-label-color: white;\n",
       "                    --jp-ui-font-color1: white;\n",
       "                    --jp-layout-color2: #454545;\n",
       "                    background-color: #383838;\n",
       "                }\n",
       "\n",
       "                .geemap-dark .jupyter-button {\n",
       "                    --jp-layout-color3: #383838;\n",
       "                }\n",
       "\n",
       "                .geemap-colab {\n",
       "                    background-color: var(--colab-primary-surface-color, white);\n",
       "                }\n",
       "\n",
       "                .geemap-colab .jupyter-button {\n",
       "                    --jp-layout-color3: var(--colab-primary-surface-color, white);\n",
       "                }\n",
       "            </style>\n",
       "            "
      ],
      "text/plain": [
       "<IPython.core.display.HTML object>"
      ]
     },
     "metadata": {},
     "output_type": "display_data"
    }
   ],
   "source": [
    "def ndvi(img: ee.Image):\n",
    "    ndvi = img.normalizedDifference([\"B5\", \"B4\"]).rename(\"NDVI\")\n",
    "    return img.addBands(ndvi)\n",
    "\n",
    "collection = ee.ImageCollection('LANDSAT/LC08/C02/T1_TOA')"
   ]
  },
  {
   "cell_type": "code",
   "execution_count": 9,
   "metadata": {},
   "outputs": [
    {
     "data": {
      "text/html": [
       "\n",
       "            <style>\n",
       "                .geemap-dark {\n",
       "                    --jp-widgets-color: white;\n",
       "                    --jp-widgets-label-color: white;\n",
       "                    --jp-ui-font-color1: white;\n",
       "                    --jp-layout-color2: #454545;\n",
       "                    background-color: #383838;\n",
       "                }\n",
       "\n",
       "                .geemap-dark .jupyter-button {\n",
       "                    --jp-layout-color3: #383838;\n",
       "                }\n",
       "\n",
       "                .geemap-colab {\n",
       "                    background-color: var(--colab-primary-surface-color, white);\n",
       "                }\n",
       "\n",
       "                .geemap-colab .jupyter-button {\n",
       "                    --jp-layout-color3: var(--colab-primary-surface-color, white);\n",
       "                }\n",
       "            </style>\n",
       "            "
      ],
      "text/plain": [
       "<IPython.core.display.HTML object>"
      ]
     },
     "metadata": {},
     "output_type": "display_data"
    }
   ],
   "source": [
    "years = range(2021, 2025)\n",
    "summers = [[f\"{year}-06-01\", f\"{year}-08-31\"] for year in years]\n",
    "filters = [ee.Filter.date(*summer) for summer in summers]\n",
    "allSeasonsFilter = ee.Filter.Or(filters)"
   ]
  },
  {
   "cell_type": "code",
   "execution_count": 30,
   "metadata": {},
   "outputs": [
    {
     "data": {
      "text/html": [
       "\n",
       "            <style>\n",
       "                .geemap-dark {\n",
       "                    --jp-widgets-color: white;\n",
       "                    --jp-widgets-label-color: white;\n",
       "                    --jp-ui-font-color1: white;\n",
       "                    --jp-layout-color2: #454545;\n",
       "                    background-color: #383838;\n",
       "                }\n",
       "\n",
       "                .geemap-dark .jupyter-button {\n",
       "                    --jp-layout-color3: #383838;\n",
       "                }\n",
       "\n",
       "                .geemap-colab {\n",
       "                    background-color: var(--colab-primary-surface-color, white);\n",
       "                }\n",
       "\n",
       "                .geemap-colab .jupyter-button {\n",
       "                    --jp-layout-color3: var(--colab-primary-surface-color, white);\n",
       "                }\n",
       "            </style>\n",
       "            "
      ],
      "text/plain": [
       "<IPython.core.display.HTML object>"
      ]
     },
     "metadata": {},
     "output_type": "display_data"
    },
    {
     "name": "stdout",
     "output_type": "stream",
     "text": [
      "23\n"
     ]
    }
   ],
   "source": [
    "# Number of images\n",
    "\n",
    "def add_year(img: ee.Image):\n",
    "    date = ee.Date(img.get(\"DATE_ACQUIRED\"))\n",
    "    return img.set(\"YEAR\", date.get(\"year\"))\n",
    "\n",
    "images = collection.filterBounds(districts.geometry()) \\\n",
    "    .filter(allSeasonsFilter) \\\n",
    "    .filter(ee.Filter.lt(\"CLOUD_COVER\", 10)) \\\n",
    "    .map(ndvi) \\\n",
    "    .select(['B2','B3','B4','B5','NDVI']) \\\n",
    "    .map(add_year)\n",
    "\n",
    "print(images.size().getInfo())"
   ]
  },
  {
   "cell_type": "code",
   "execution_count": null,
   "metadata": {},
   "outputs": [
    {
     "data": {
      "text/html": [
       "\n",
       "            <style>\n",
       "                .geemap-dark {\n",
       "                    --jp-widgets-color: white;\n",
       "                    --jp-widgets-label-color: white;\n",
       "                    --jp-ui-font-color1: white;\n",
       "                    --jp-layout-color2: #454545;\n",
       "                    background-color: #383838;\n",
       "                }\n",
       "\n",
       "                .geemap-dark .jupyter-button {\n",
       "                    --jp-layout-color3: #383838;\n",
       "                }\n",
       "\n",
       "                .geemap-colab {\n",
       "                    background-color: var(--colab-primary-surface-color, white);\n",
       "                }\n",
       "\n",
       "                .geemap-colab .jupyter-button {\n",
       "                    --jp-layout-color3: var(--colab-primary-surface-color, white);\n",
       "                }\n",
       "            </style>\n",
       "            "
      ],
      "text/plain": [
       "<IPython.core.display.HTML object>"
      ]
     },
     "metadata": {},
     "output_type": "display_data"
    },
    {
     "data": {
      "text/plain": [
       "<Axes: xlabel='year'>"
      ]
     },
     "execution_count": 31,
     "metadata": {},
     "output_type": "execute_result"
    },
    {
     "data": {
      "image/png": "[encoded data removed]",
      "text/plain": [
       "<Figure size 640x480 with 1 Axes>"
      ]
     },
     "metadata": {},
     "output_type": "display_data"
    }
   ],
   "source": [
    "import pandas as pd\n",
    "\n",
    "year_acquired=images.aggregate_array(\"YEAR\").getInfo()\n",
    "year_acquired = pd.DataFrame(year_acquired, columns=[\"year\"])\n",
    "year_acquired[\"year\"].value_counts().plot(kind='bar')"
   ]
  },
  {
   "cell_type": "code",
   "execution_count": 6,
   "metadata": {},
   "outputs": [
    {
     "data": {
      "text/html": [
       "\n",
       "            <style>\n",
       "                .geemap-dark {\n",
       "                    --jp-widgets-color: white;\n",
       "                    --jp-widgets-label-color: white;\n",
       "                    --jp-ui-font-color1: white;\n",
       "                    --jp-layout-color2: #454545;\n",
       "                    background-color: #383838;\n",
       "                }\n",
       "\n",
       "                .geemap-dark .jupyter-button {\n",
       "                    --jp-layout-color3: #383838;\n",
       "                }\n",
       "\n",
       "                .geemap-colab {\n",
       "                    background-color: var(--colab-primary-surface-color, white);\n",
       "                }\n",
       "\n",
       "                .geemap-colab .jupyter-button {\n",
       "                    --jp-layout-color3: var(--colab-primary-surface-color, white);\n",
       "                }\n",
       "            </style>\n",
       "            "
      ],
      "text/plain": [
       "<IPython.core.display.HTML object>"
      ]
     },
     "metadata": {},
     "output_type": "display_data"
    },
    {
     "name": "stdout",
     "output_type": "stream",
     "text": [
      "2019 : 2\n",
      "2024 : 3\n"
     ]
    }
   ],
   "source": [
    "# years = range(2019, 2025)\n",
    "years = [2019, 2024]\n",
    "images = {}\n",
    "for year in years:\n",
    "    summer = [f\"{year}-06-01\", f\"{year}-08-31\"]\n",
    "    filter = ee.Filter.date(*summer)\n",
    "    seasonCollection = collection.filterBounds(districts.geometry()) \\\n",
    "        .filter(filter) \\\n",
    "        .filter(ee.Filter.lt(\"CLOUD_COVER\", 4)) \\\n",
    "        .select(['B2','B3','B4','B5']) \\\n",
    "        \n",
    "\n",
    "    print(f\"{year} : {seasonCollection.size().getInfo()}\")\n",
    "    min_image = seasonCollection.min()\n",
    "    ndvi = min_image.normalizedDifference(['B5', 'B4']).rename('NDVI')\n",
    "    image = min_image.addBands(ndvi)\n",
    "    images.update({year: image})\n",
    "\n",
    "    districts = image.select(['NDVI']) \\\n",
    "        .reduceRegions(\n",
    "            collection = districts,\n",
    "            reducer=ee.Reducer.mean().setOutputs([f\"{year}\"]),\n",
    "            scale=30,\n",
    "            crs='EPSG:4326'\n",
    "        )\n",
    "\n"
   ]
  },
  {
   "cell_type": "code",
   "execution_count": 18,
   "metadata": {},
   "outputs": [
    {
     "data": {
      "text/html": [
       "\n",
       "            <style>\n",
       "                .geemap-dark {\n",
       "                    --jp-widgets-color: white;\n",
       "                    --jp-widgets-label-color: white;\n",
       "                    --jp-ui-font-color1: white;\n",
       "                    --jp-layout-color2: #454545;\n",
       "                    background-color: #383838;\n",
       "                }\n",
       "\n",
       "                .geemap-dark .jupyter-button {\n",
       "                    --jp-layout-color3: #383838;\n",
       "                }\n",
       "\n",
       "                .geemap-colab {\n",
       "                    background-color: var(--colab-primary-surface-color, white);\n",
       "                }\n",
       "\n",
       "                .geemap-colab .jupyter-button {\n",
       "                    --jp-layout-color3: var(--colab-primary-surface-color, white);\n",
       "                }\n",
       "            </style>\n",
       "            "
      ],
      "text/plain": [
       "<IPython.core.display.HTML object>"
      ]
     },
     "metadata": {},
     "output_type": "display_data"
    },
    {
     "data": {
      "text/plain": [
       "['NDVI2019', 'NDVI2024', 'DIFF', 'DIFF_PER']"
      ]
     },
     "execution_count": 18,
     "metadata": {},
     "output_type": "execute_result"
    }
   ],
   "source": [
    "name_first = f\"NDVI{years[0]}\"\n",
    "name_last = f\"NDVI{years[-1]}\"\n",
    "ndvi_first = images[years[0]].select(['NDVI']).rename(name_first)\n",
    "ndvi_last = images[years[-1]].select(['NDVI']).rename(name_last)\n",
    "ndvi_image = ee.Image.cat(ndvi_first, ndvi_last)\n",
    "ndvi_diff = ndvi_image.expression(f'b(\"{name_last}\")-b(\"{name_first}\")').rename('DIFF')\n",
    "ndvi_diff_per = ndvi_image.expression(f'(b(\"{name_last}\")-b(\"{name_first}\"))/((b(\"{name_last}\")+b(\"{name_first}\"))/2)').rename('DIFF_PER')\n",
    "ndvi_image = ee.Image.cat(ndvi_image, ndvi_diff, ndvi_diff_per)\n",
    "\n",
    "districts = ndvi_image.select(['DIFF']) \\\n",
    "    .reduceRegions(\n",
    "        collection = districts,\n",
    "        reducer=ee.Reducer.mean().setOutputs([f\"NDVI_DIFF\"]),\n",
    "        scale=30,\n",
    "        crs='EPSG:4326'\n",
    "    )\n",
    "\n",
    "ndvi_image.bandNames().getInfo()"
   ]
  },
  {
   "cell_type": "code",
   "execution_count": 19,
   "metadata": {},
   "outputs": [
    {
     "data": {
      "text/html": [
       "\n",
       "            <style>\n",
       "                .geemap-dark {\n",
       "                    --jp-widgets-color: white;\n",
       "                    --jp-widgets-label-color: white;\n",
       "                    --jp-ui-font-color1: white;\n",
       "                    --jp-layout-color2: #454545;\n",
       "                    background-color: #383838;\n",
       "                }\n",
       "\n",
       "                .geemap-dark .jupyter-button {\n",
       "                    --jp-layout-color3: #383838;\n",
       "                }\n",
       "\n",
       "                .geemap-colab {\n",
       "                    background-color: var(--colab-primary-surface-color, white);\n",
       "                }\n",
       "\n",
       "                .geemap-colab .jupyter-button {\n",
       "                    --jp-layout-color3: var(--colab-primary-surface-color, white);\n",
       "                }\n",
       "            </style>\n",
       "            "
      ],
      "text/plain": [
       "<IPython.core.display.HTML object>"
      ]
     },
     "metadata": {},
     "output_type": "display_data"
    },
    {
     "data": {
      "application/vnd.jupyter.widget-view+json": {
       "model_id": "a11fd12e39e24982ba059e675969437e",
       "version_major": 2,
       "version_minor": 0
      },
      "text/plain": [
       "Map(center=[55.71782880151228, 37.62268066406251], controls=(WidgetControl(options=['position', 'transparent_b…"
      ]
     },
     "metadata": {},
     "output_type": "display_data"
    }
   ],
   "source": [
    "rgb_vis = {\"bands\": [\"B4\", \"B3\", \"B2\"], \"min\": 0, \"max\": 0.3}\n",
    "change_vis = {\"min\": -1, \"max\": 1, \"palette\": [\"red\", \"white\", \"green\"]}\n",
    "ndvi_vis = {\"bands\": [\"NDVI\"], \"min\": 0, \"max\": 1, \"palette\": cm.palettes.ndvi}\n",
    "\n",
    "map = geemap.Map(center=[55.71782880151228, 37.62268066406251], zoom=8, height=1000)\n",
    "\n",
    "for year, image in images.items():\n",
    "    map.addLayer(image, rgb_vis, f\"{year}\")\n",
    "    \n",
    "for year, image in images.items():\n",
    "    map.addLayer(image, ndvi_vis, f\"{year} NDVI\")\n",
    "\n",
    "map.addLayer(ndvi_image, {\"bands\": [\"DIFF\"], **change_vis}, f\"NDVI DIFF\")\n",
    "map.addLayer(ndvi_image, {\"bands\": [\"DIFF_PER\"], **change_vis}, f\"NDVI DIFF (%)\")\n",
    "map.addLayer(districts.style(**{'color': '808080', 'width': 0.5, 'fillColor': '00000000'}), {}, \"Moscow Districts\")\n",
    "map"
   ]
  },
  {
   "cell_type": "code",
   "execution_count": 17,
   "metadata": {},
   "outputs": [
    {
     "data": {
      "text/html": [
       "\n",
       "            <style>\n",
       "                .geemap-dark {\n",
       "                    --jp-widgets-color: white;\n",
       "                    --jp-widgets-label-color: white;\n",
       "                    --jp-ui-font-color1: white;\n",
       "                    --jp-layout-color2: #454545;\n",
       "                    background-color: #383838;\n",
       "                }\n",
       "\n",
       "                .geemap-dark .jupyter-button {\n",
       "                    --jp-layout-color3: #383838;\n",
       "                }\n",
       "\n",
       "                .geemap-colab {\n",
       "                    background-color: var(--colab-primary-surface-color, white);\n",
       "                }\n",
       "\n",
       "                .geemap-colab .jupyter-button {\n",
       "                    --jp-layout-color3: var(--colab-primary-surface-color, white);\n",
       "                }\n",
       "            </style>\n",
       "            "
      ],
      "text/plain": [
       "<IPython.core.display.HTML object>"
      ]
     },
     "metadata": {},
     "output_type": "display_data"
    },
    {
     "name": "stdout",
     "output_type": "stream",
     "text": [
      "|     | NAME                      | NAME_AO          |    NDVI_DIFF |\n",
      "|----:|:--------------------------|:-----------------|-------------:|\n",
      "|   0 | Кокошкино                 | Новомосковский   | -0.0444266   |\n",
      "|   1 | Печатники                 | Юго-Восточный    | -0.0356035   |\n",
      "|   2 | Десёновское               | Новомосковский   | -0.034407    |\n",
      "|   3 | \"Мосрентген\"              | Новомосковский   | -0.0320654   |\n",
      "|   4 | Краснопахорское           | Троицкий         | -0.0309072   |\n",
      "|   5 | Троицк                    | Троицкий         | -0.0266794   |\n",
      "|   6 | Царицыно                  | Южный            | -0.0231389   |\n",
      "|   7 | Марушкинское              | Новомосковский   | -0.0200405   |\n",
      "|   8 | Новофёдоровское           | Троицкий         | -0.0185155   |\n",
      "|   9 | Нагатинский Затон         | Южный            | -0.0180237   |\n",
      "|  10 | Кунцево                   | Западный         | -0.0174779   |\n",
      "|  11 | Хорошёво-Мнёвники         | Северо-Западный  | -0.0174069   |\n",
      "|  12 | Беговой                   | Северный         | -0.0164571   |\n",
      "|  13 | Сосенское                 | Новомосковский   | -0.0164371   |\n",
      "|  14 | Текстильщики              | Юго-Восточный    | -0.0162185   |\n",
      "|  15 | Ломоносовский             | Юго-Западный     | -0.015947    |\n",
      "|  16 | Михайлово-Ярцевское       | Троицкий         | -0.0156755   |\n",
      "|  17 | Красносельский            | Центральный      | -0.0153977   |\n",
      "|  18 | Филёвский Парк            | Западный         | -0.0149242   |\n",
      "|  19 | Москворечье-Сабурово      | Южный            | -0.0148528   |\n",
      "|  20 | Гагаринский               | Юго-Западный     | -0.0136141   |\n",
      "|  21 | Басманный                 | Центральный      | -0.0114689   |\n",
      "|  22 | Даниловский               | Южный            | -0.0108774   |\n",
      "|  23 | Южное Бутово              | Юго-Западный     | -0.0105102   |\n",
      "|  24 | Хамовники                 | Центральный      | -0.0103679   |\n",
      "|  25 | Котловка                  | Юго-Западный     | -0.0102634   |\n",
      "|  26 | Косино-Ухтомский          | Восточный        | -0.00975547  |\n",
      "|  27 | Марьина Роща              | Северо-Восточный | -0.00948766  |\n",
      "|  28 | Замоскворечье             | Центральный      | -0.00917192  |\n",
      "|  29 | Арбат                     | Центральный      | -0.00871489  |\n",
      "|  30 | Рязановское               | Новомосковский   | -0.0081701   |\n",
      "|  31 | Измайлово                 | Восточный        | -0.00806546  |\n",
      "|  32 | Фили-Давыдково            | Западный         | -0.0077107   |\n",
      "|  33 | Коньково                  | Юго-Западный     | -0.00657658  |\n",
      "|  34 | Бабушкинский              | Северо-Восточный | -0.0061518   |\n",
      "|  35 | Академический             | Юго-Западный     | -0.00590299  |\n",
      "|  36 | Тверской                  | Центральный      | -0.00538464  |\n",
      "|  37 | Капотня                   | Юго-Восточный    | -0.00528142  |\n",
      "|  38 | Братеево                  | Южный            | -0.0050705   |\n",
      "|  39 | Внуковское                | Новомосковский   | -0.00499991  |\n",
      "|  40 | Перово                    | Восточный        | -0.00388495  |\n",
      "|  41 | Якиманка                  | Центральный      | -0.00363886  |\n",
      "|  42 | Молжаниновский            | Северный         | -0.00348108  |\n",
      "|  43 | Первомайское              | Троицкий         | -0.0032182   |\n",
      "|  44 | Зюзино                    | Юго-Западный     | -0.00318629  |\n",
      "|  45 | Ясенево                   | Юго-Западный     | -0.00311221  |\n",
      "|  46 | Северное Бутово           | Юго-Западный     | -0.00289306  |\n",
      "|  47 | Щербинка                  | Новомосковский   | -0.00277369  |\n",
      "|  48 | Киевский                  | Троицкий         | -0.00277017  |\n",
      "|  49 | Покровское-Стрешнево      | Северо-Западный  | -0.00268495  |\n",
      "|  50 | Дорогомилово              | Западный         | -0.0025538   |\n",
      "|  51 | Мещанский                 | Центральный      | -0.00186644  |\n",
      "|  52 | Нагатино-Садовники        | Южный            | -0.00168948  |\n",
      "|  53 | Внуково                   | Западный         | -0.00149802  |\n",
      "|  54 | Соколиная Гора            | Восточный        | -0.000890148 |\n",
      "|  55 | Донской                   | Южный            | -0.000750088 |\n",
      "|  56 | Силино                    | Зеленоградский   | -0.000391374 |\n",
      "|  57 | Марфино                   | Северо-Восточный | -0.00038578  |\n",
      "|  58 | Пресненский               | Центральный      | -0.000210863 |\n",
      "|  59 | Воскресенское             | Новомосковский   |  2.88861e-05 |\n",
      "|  60 | Тимирязевский             | Северный         |  0.000343057 |\n",
      "|  61 | Раменки                   | Западный         |  0.0004354   |\n",
      "|  62 | Роговское                 | Троицкий         |  0.00103025  |\n",
      "|  63 | Черёмушки                 | Юго-Западный     |  0.001267    |\n",
      "|  64 | Очаково-Матвеевское       | Западный         |  0.00170198  |\n",
      "|  65 | Филимонковское            | Новомосковский   |  0.00198266  |\n",
      "|  66 | Новогиреево               | Восточный        |  0.00201872  |\n",
      "|  67 | Тёплый Стан               | Юго-Западный     |  0.00282725  |\n",
      "|  68 | Кузьминки                 | Юго-Восточный    |  0.00295698  |\n",
      "|  69 | Рязанский                 | Юго-Восточный    |  0.00315221  |\n",
      "|  70 | Московский                | Новомосковский   |  0.00319948  |\n",
      "|  71 | Лефортово                 | Юго-Восточный    |  0.00330435  |\n",
      "|  72 | Обручевский               | Юго-Западный     |  0.00346733  |\n",
      "|  73 | Свиблово                  | Северо-Восточный |  0.00372951  |\n",
      "|  74 | Северное Измайлово        | Восточный        |  0.00384822  |\n",
      "|  75 | Нижегородский             | Юго-Восточный    |  0.00421948  |\n",
      "|  76 | Чертаново Северное        | Южный            |  0.00435996  |\n",
      "|  77 | Некрасовка                | Юго-Восточный    |  0.00441116  |\n",
      "|  78 | Бутырский                 | Северо-Восточный |  0.00455647  |\n",
      "|  79 | Бирюлёво Западное         | Южный            |  0.00481921  |\n",
      "|  80 | Левобережный              | Северный         |  0.00512741  |\n",
      "|  81 | Бирюлёво Восточное        | Южный            |  0.00527824  |\n",
      "|  82 | Ново-Переделкино          | Западный         |  0.00551319  |\n",
      "|  83 | Лосиноостровский          | Северо-Восточный |  0.00555846  |\n",
      "|  84 | Щукино                    | Северо-Западный  |  0.00566288  |\n",
      "|  85 | Нагорный                  | Южный            |  0.00641594  |\n",
      "|  86 | Алтуфьевский              | Северо-Восточный |  0.00656136  |\n",
      "|  87 | Люблино                   | Юго-Восточный    |  0.00657301  |\n",
      "|  88 | Таганский                 | Центральный      |  0.0074753   |\n",
      "|  89 | Сокольники                | Восточный        |  0.00789852  |\n",
      "|  90 | Савёловский               | Северный         |  0.00812811  |\n",
      "|  91 | Зябликово                 | Южный            |  0.0085554   |\n",
      "|  92 | Восточное Дегунино        | Северный         |  0.00884399  |\n",
      "|  93 | Орехово-Борисово Северное | Южный            |  0.00897634  |\n",
      "|  94 | Тропарёво-Никулино        | Западный         |  0.00908901  |\n",
      "|  95 | Южнопортовый              | Юго-Восточный    |  0.00957697  |\n",
      "|  96 | Гольяново                 | Восточный        |  0.0096213   |\n",
      "|  97 | Проспект Вернадского      | Западный         |  0.0105868   |\n",
      "|  98 | Крюково                   | Зеленоградский   |  0.0107349   |\n",
      "|  99 | Чертаново Южное           | Южный            |  0.0111775   |\n",
      "| 100 | Вороновское               | Троицкий         |  0.0112134   |\n",
      "| 101 | Чертаново Центральное     | Южный            |  0.0114829   |\n",
      "| 102 | Южное Тушино              | Северо-Западный  |  0.0117146   |\n",
      "| 103 | Восточное Измайлово       | Восточный        |  0.0120224   |\n",
      "| 104 | Войковский                | Северный         |  0.0120843   |\n",
      "| 105 | Марьино                   | Юго-Восточный    |  0.0127003   |\n",
      "| 106 | Сокол                     | Северный         |  0.013063    |\n",
      "| 107 | Алексеевский              | Северо-Восточный |  0.0130878   |\n",
      "| 108 | Можайский                 | Западный         |  0.0131226   |\n",
      "| 109 | Метрогородок              | Восточный        |  0.0133554   |\n",
      "| 110 | Богородское               | Восточный        |  0.0142265   |\n",
      "| 111 | Северный                  | Северо-Восточный |  0.0143059   |\n",
      "| 112 | Отрадное                  | Северо-Восточный |  0.0143462   |\n",
      "| 113 | Коптево                   | Северный         |  0.0143773   |\n",
      "| 114 | Преображенское            | Восточный        |  0.0145839   |\n",
      "| 115 | Вешняки                   | Восточный        |  0.0151962   |\n",
      "| 116 | Солнцево                  | Западный         |  0.015568    |\n",
      "| 117 | Строгино                  | Северо-Западный  |  0.0160845   |\n",
      "| 118 | Ивановское                | Восточный        |  0.0163368   |\n",
      "| 119 | Орехово-Борисово Южное    | Южный            |  0.0167542   |\n",
      "| 120 | Щаповское                 | Троицкий         |  0.0170645   |\n",
      "| 121 | Восточный                 | Восточный        |  0.0170714   |\n",
      "| 122 | Старое Крюково            | Зеленоградский   |  0.0175905   |\n",
      "| 123 | Ростокино                 | Северо-Восточный |  0.0175922   |\n",
      "| 124 | Куркино                   | Северо-Западный  |  0.0176992   |\n",
      "| 125 | Останкинский              | Северо-Восточный |  0.0186598   |\n",
      "| 126 | Митино                    | Северо-Западный  |  0.019234    |\n",
      "| 127 | Выхино-Жулебино           | Юго-Восточный    |  0.0195715   |\n",
      "| 128 | Северное Тушино           | Северо-Западный  |  0.019783    |\n",
      "| 129 | Аэропорт                  | Северный         |  0.0204863   |\n",
      "| 130 | Ярославский               | Северо-Восточный |  0.0209581   |\n",
      "| 131 | Клёновское                | Троицкий         |  0.0218845   |\n",
      "| 132 | Лианозово                 | Северо-Восточный |  0.0220038   |\n",
      "| 133 | Головинский               | Северный         |  0.0222042   |\n",
      "| 134 | Матушкино                 | Зеленоградский   |  0.0233305   |\n",
      "| 135 | Северное Медведково       | Северо-Восточный |  0.0234458   |\n",
      "| 136 | Дмитровский               | Северный         |  0.0239564   |\n",
      "| 137 | Бибирево                  | Северо-Восточный |  0.0250772   |\n",
      "| 138 | Крылатское                | Западный         |  0.0251008   |\n",
      "| 139 | Бескудниковский           | Северный         |  0.0257334   |\n",
      "| 140 | Савёлки                   | Зеленоградский   |  0.0267832   |\n",
      "| 141 | Ховрино                   | Северный         |  0.0279265   |\n",
      "| 142 | Южное Медведково          | Северо-Восточный |  0.0287989   |\n",
      "| 143 | Хорошёвский               | Северный         |  0.0289306   |\n",
      "| 144 | Новокосино                | Восточный        |  0.0318673   |\n",
      "| 145 | Западное Дегунино         | Северный         |  0.036215    |\n"
     ]
    }
   ],
   "source": [
    "gdf = geemap.ee_to_gdf(districts)\n",
    "gdf = gdf.sort_values(by='NDVI_DIFF').reset_index(drop=True)\n",
    "print(gdf[['NAME', 'NAME_AO', 'NDVI_DIFF']].to_markdown())\n"
   ]
  },
  {
   "cell_type": "code",
   "execution_count": null,
   "metadata": {},
   "outputs": [
    {
     "data": {
      "text/html": [
       "\n",
       "            <style>\n",
       "                .geemap-dark {\n",
       "                    --jp-widgets-color: white;\n",
       "                    --jp-widgets-label-color: white;\n",
       "                    --jp-ui-font-color1: white;\n",
       "                    --jp-layout-color2: #454545;\n",
       "                    background-color: #383838;\n",
       "                }\n",
       "\n",
       "                .geemap-dark .jupyter-button {\n",
       "                    --jp-layout-color3: #383838;\n",
       "                }\n",
       "\n",
       "                .geemap-colab {\n",
       "                    background-color: var(--colab-primary-surface-color, white);\n",
       "                }\n",
       "\n",
       "                .geemap-colab .jupyter-button {\n",
       "                    --jp-layout-color3: var(--colab-primary-surface-color, white);\n",
       "                }\n",
       "            </style>\n",
       "            "
      ],
      "text/plain": [
       "<IPython.core.display.HTML object>"
      ]
     },
     "metadata": {},
     "output_type": "display_data"
    }
   ],
   "source": [
    "projection = ndvi_image.select('DIFF').projection().getInfo()\n",
    "task = ee.batch.Export.image.toDrive(\n",
    "    image=ndvi_image,\n",
    "    description=f'NDVI-{years[0]}-{years[-1]}',\n",
    "    scale=30, \n",
    "    crs='EPSG:4326',\n",
    "    maxPixels = 892227573612\n",
    ")\n",
    "task.start()"
   ]
  },
  {
   "cell_type": "code",
   "execution_count": 69,
   "metadata": {},
   "outputs": [
    {
     "data": {
      "text/html": [
       "\n",
       "            <style>\n",
       "                .geemap-dark {\n",
       "                    --jp-widgets-color: white;\n",
       "                    --jp-widgets-label-color: white;\n",
       "                    --jp-ui-font-color1: white;\n",
       "                    --jp-layout-color2: #454545;\n",
       "                    background-color: #383838;\n",
       "                }\n",
       "\n",
       "                .geemap-dark .jupyter-button {\n",
       "                    --jp-layout-color3: #383838;\n",
       "                }\n",
       "\n",
       "                .geemap-colab {\n",
       "                    background-color: var(--colab-primary-surface-color, white);\n",
       "                }\n",
       "\n",
       "                .geemap-colab .jupyter-button {\n",
       "                    --jp-layout-color3: var(--colab-primary-surface-color, white);\n",
       "                }\n",
       "            </style>\n",
       "            "
      ],
      "text/plain": [
       "<IPython.core.display.HTML object>"
      ]
     },
     "metadata": {},
     "output_type": "display_data"
    },
    {
     "name": "stdout",
     "output_type": "stream",
     "text": [
      "{'state': 'RUNNING', 'description': 'imageToDriveExample_transform', 'priority': 100, 'creation_timestamp_ms': 1746603198594, 'update_timestamp_ms': 1746604647800, 'start_timestamp_ms': 1746603203924, 'task_type': 'EXPORT_IMAGE', 'attempt': 1, 'batch_eecu_usage_seconds': 136948.38, 'id': 'X2LFW34WHALZNHSLO4EZAHCO', 'name': 'projects/90917923301/operations/X2LFW34WHALZNHSLO4EZAHCO'}\n"
     ]
    }
   ],
   "source": [
    "print(task.status())"
   ]
  },
  {
   "cell_type": "code",
   "execution_count": 39,
   "metadata": {},
   "outputs": [
    {
     "data": {
      "text/html": [
       "\n",
       "            <style>\n",
       "                .geemap-dark {\n",
       "                    --jp-widgets-color: white;\n",
       "                    --jp-widgets-label-color: white;\n",
       "                    --jp-ui-font-color1: white;\n",
       "                    --jp-layout-color2: #454545;\n",
       "                    background-color: #383838;\n",
       "                }\n",
       "\n",
       "                .geemap-dark .jupyter-button {\n",
       "                    --jp-layout-color3: #383838;\n",
       "                }\n",
       "\n",
       "                .geemap-colab {\n",
       "                    background-color: var(--colab-primary-surface-color, white);\n",
       "                }\n",
       "\n",
       "                .geemap-colab .jupyter-button {\n",
       "                    --jp-layout-color3: var(--colab-primary-surface-color, white);\n",
       "                }\n",
       "            </style>\n",
       "            "
      ],
      "text/plain": [
       "<IPython.core.display.HTML object>"
      ]
     },
     "metadata": {},
     "output_type": "display_data"
    },
    {
     "data": {
      "text/plain": [
       "{'type': 'Image',\n",
       " 'bands': [{'id': 'B2',\n",
       "   'data_type': {'type': 'PixelType', 'precision': 'float'},\n",
       "   'dimensions': [7991, 8071],\n",
       "   'crs': 'EPSG:32637',\n",
       "   'crs_transform': [30, 0, 419685, 0, -30, 6316815]},\n",
       "  {'id': 'B3',\n",
       "   'data_type': {'type': 'PixelType', 'precision': 'float'},\n",
       "   'dimensions': [7991, 8071],\n",
       "   'crs': 'EPSG:32637',\n",
       "   'crs_transform': [30, 0, 419685, 0, -30, 6316815]},\n",
       "  {'id': 'B4',\n",
       "   'data_type': {'type': 'PixelType', 'precision': 'float'},\n",
       "   'dimensions': [7991, 8071],\n",
       "   'crs': 'EPSG:32637',\n",
       "   'crs_transform': [30, 0, 419685, 0, -30, 6316815]},\n",
       "  {'id': 'B5',\n",
       "   'data_type': {'type': 'PixelType', 'precision': 'float'},\n",
       "   'dimensions': [7991, 8071],\n",
       "   'crs': 'EPSG:32637',\n",
       "   'crs_transform': [30, 0, 419685, 0, -30, 6316815]}],\n",
       " 'version': 1746564941747523,\n",
       " 'id': 'LANDSAT/LC08/C02/T1_TOA/LC08_177021_20240707',\n",
       " 'properties': {'RADIANCE_MULT_BAND_5': 0.0059145,\n",
       "  'RADIANCE_MULT_BAND_6': 0.0014709,\n",
       "  'RADIANCE_MULT_BAND_3': 0.011462,\n",
       "  'RADIANCE_MULT_BAND_4': 0.009665,\n",
       "  'RADIANCE_MULT_BAND_1': 0.012146,\n",
       "  'RADIANCE_MULT_BAND_2': 0.012438,\n",
       "  'WRS_TYPE': 2,\n",
       "  'K2_CONSTANT_BAND_11': 1201.1442,\n",
       "  'K2_CONSTANT_BAND_10': 1321.0789,\n",
       "  'system:footprint': {'type': 'LinearRing',\n",
       "   'coordinates': [[41.58478086007338, 56.487117483443626],\n",
       "    [41.391643411936386, 56.522366812965174],\n",
       "    [39.92601130259535, 56.77804509915154],\n",
       "    [38.836845422909605, 56.95480536874135],\n",
       "    [38.58778671699701, 56.99365913885598],\n",
       "    [38.58641268319618, 56.99213634296636],\n",
       "    [38.15612999889686, 56.15266573811497],\n",
       "    [37.740862010496514, 55.30501583669785],\n",
       "    [37.76557630119455, 55.30105963114901],\n",
       "    [38.46375614012455, 55.18822218867675],\n",
       "    [40.614473453583976, 54.81106884721615],\n",
       "    [40.61727603665187, 54.81103152370247],\n",
       "    [40.69832995243475, 54.95643441863348],\n",
       "    [40.83111259675184, 55.19254202097279],\n",
       "    [40.94793707254905, 55.39839064548371],\n",
       "    [41.323668584071875, 56.04676368192945],\n",
       "    [41.37331377142934, 56.13090338872246],\n",
       "    [41.584660913473336, 56.48535180681978],\n",
       "    [41.58478086007338, 56.487117483443626]]},\n",
       "  'REFLECTIVE_SAMPLES': 7991,\n",
       "  'SUN_AZIMUTH': 153.854735,\n",
       "  'DATA_SOURCE_TIRS_STRAY_LIGHT_CORRECTION': 'TIRS',\n",
       "  'DATE_ACQUIRED': '2024-07-07',\n",
       "  'ELLIPSOID': 'WGS84',\n",
       "  'STATION_ID': 'LGN',\n",
       "  'RESAMPLING_OPTION': 'CUBIC_CONVOLUTION',\n",
       "  'ORIENTATION': 'NORTH_UP',\n",
       "  'WRS_ROW': 21,\n",
       "  'RADIANCE_MULT_BAND_9': 0.0023115,\n",
       "  'TARGET_WRS_ROW': 21,\n",
       "  'RADIANCE_MULT_BAND_7': 0.00049577,\n",
       "  'RADIANCE_MULT_BAND_8': 0.010938,\n",
       "  'IMAGE_QUALITY_TIRS': 9,\n",
       "  'TRUNCATION_OLI': 'UPPER',\n",
       "  'CLOUD_COVER': 1.56,\n",
       "  'GEOMETRIC_RMSE_VERIFY': 4.981,\n",
       "  'COLLECTION_CATEGORY': 'T1',\n",
       "  'GRID_CELL_SIZE_REFLECTIVE': 30,\n",
       "  'CLOUD_COVER_LAND': 1.56,\n",
       "  'GEOMETRIC_RMSE_MODEL': 7.547,\n",
       "  'COLLECTION_NUMBER': 2,\n",
       "  'IMAGE_QUALITY_OLI': 9,\n",
       "  'LANDSAT_SCENE_ID': 'LC81770212024189LGN00',\n",
       "  'WRS_PATH': 177,\n",
       "  'PANCHROMATIC_SAMPLES': 15981,\n",
       "  'PANCHROMATIC_LINES': 16141,\n",
       "  'GEOMETRIC_RMSE_MODEL_Y': 5.378,\n",
       "  'REFLECTIVE_LINES': 8071,\n",
       "  'GEOMETRIC_RMSE_MODEL_X': 5.294,\n",
       "  'system:asset_size': 1191920932,\n",
       "  'system:index': 'LC08_177021_20240707',\n",
       "  'DATA_SOURCE_ELEVATION': 'GLS2000',\n",
       "  'REFLECTANCE_ADD_BAND_1': -0.1,\n",
       "  'REFLECTANCE_ADD_BAND_2': -0.1,\n",
       "  'DATUM': 'WGS84',\n",
       "  'REFLECTANCE_ADD_BAND_3': -0.1,\n",
       "  'REFLECTANCE_ADD_BAND_4': -0.1,\n",
       "  'REFLECTANCE_ADD_BAND_5': -0.1,\n",
       "  'REFLECTANCE_ADD_BAND_6': -0.1,\n",
       "  'REFLECTANCE_ADD_BAND_7': -0.1,\n",
       "  'REFLECTANCE_ADD_BAND_8': -0.1,\n",
       "  'GROUND_CONTROL_POINTS_VERSION': 5,\n",
       "  'UTM_ZONE': 37,\n",
       "  'system:time_end': 1720340534057,\n",
       "  'LANDSAT_PRODUCT_ID': 'LC08_L1TP_177021_20240707_20240712_02_T1',\n",
       "  'REFLECTANCE_ADD_BAND_9': -0.1,\n",
       "  'GRID_CELL_SIZE_PANCHROMATIC': 15,\n",
       "  'RADIANCE_ADD_BAND_4': -48.32518,\n",
       "  'REFLECTANCE_MULT_BAND_7': 2e-05,\n",
       "  'system:time_start': 1720340534057,\n",
       "  'RADIANCE_ADD_BAND_5': -29.5726,\n",
       "  'REFLECTANCE_MULT_BAND_6': 2e-05,\n",
       "  'RADIANCE_ADD_BAND_6': -7.35444,\n",
       "  'REFLECTANCE_MULT_BAND_9': 2e-05,\n",
       "  'PROCESSING_SOFTWARE_VERSION': 'LPGS_16.4.0',\n",
       "  'RADIANCE_ADD_BAND_7': -2.47884,\n",
       "  'REFLECTANCE_MULT_BAND_8': 2e-05,\n",
       "  'RADIANCE_ADD_BAND_1': -60.73198,\n",
       "  'RADIANCE_ADD_BAND_2': -62.19028,\n",
       "  'RADIANCE_ADD_BAND_3': -57.30781,\n",
       "  'REFLECTANCE_MULT_BAND_1': 2e-05,\n",
       "  'RADIANCE_ADD_BAND_8': -54.6908,\n",
       "  'REFLECTANCE_MULT_BAND_3': 2e-05,\n",
       "  'RADIANCE_ADD_BAND_9': -11.55764,\n",
       "  'REFLECTANCE_MULT_BAND_2': 2e-05,\n",
       "  'REFLECTANCE_MULT_BAND_5': 2e-05,\n",
       "  'REFLECTANCE_MULT_BAND_4': 2e-05,\n",
       "  'THERMAL_LINES': 8071,\n",
       "  'TIRS_SSM_POSITION_STATUS': 'ESTIMATED',\n",
       "  'GRID_CELL_SIZE_THERMAL': 30,\n",
       "  'NADIR_OFFNADIR': 'NADIR',\n",
       "  'RADIANCE_ADD_BAND_11': 0.1,\n",
       "  'REQUEST_ID': '1910033_00017',\n",
       "  'EARTH_SUN_DISTANCE': 1.0167115,\n",
       "  'TIRS_SSM_MODEL': 'FINAL',\n",
       "  'SCENE_CENTER_TIME': '08:22:14.0573990Z',\n",
       "  'SUN_ELEVATION': 54.55280078,\n",
       "  'RADIANCE_ADD_BAND_10': 0.1,\n",
       "  'ROLL_ANGLE': -0.001,\n",
       "  'DATE_PRODUCT_GENERATED': 1720776993000,\n",
       "  'K1_CONSTANT_BAND_10': 774.8853,\n",
       "  'SATURATION_BAND_1': 'Y',\n",
       "  'SATURATION_BAND_2': 'Y',\n",
       "  'SATURATION_BAND_3': 'Y',\n",
       "  'SATURATION_BAND_4': 'Y',\n",
       "  'SATURATION_BAND_5': 'Y',\n",
       "  'MAP_PROJECTION': 'UTM',\n",
       "  'SATURATION_BAND_6': 'Y',\n",
       "  'SENSOR_ID': 'OLI_TIRS',\n",
       "  'SATURATION_BAND_7': 'Y',\n",
       "  'K1_CONSTANT_BAND_11': 480.8883,\n",
       "  'SATURATION_BAND_8': 'N',\n",
       "  'SATURATION_BAND_9': 'N',\n",
       "  'TARGET_WRS_PATH': 177,\n",
       "  'PROCESSING_LEVEL': 'L1TP',\n",
       "  'RADIANCE_MULT_BAND_11': 0.0003342,\n",
       "  'RADIANCE_MULT_BAND_10': 0.0003342,\n",
       "  'GROUND_CONTROL_POINTS_MODEL': 744,\n",
       "  'SPACECRAFT_ID': 'LANDSAT_8',\n",
       "  'THERMAL_SAMPLES': 7991,\n",
       "  'GROUND_CONTROL_POINTS_VERIFY': 206}}"
      ]
     },
     "execution_count": 39,
     "metadata": {},
     "output_type": "execute_result"
    }
   ],
   "source": [
    "summer = [f\"{2024}-06-01\", f\"{2024}-08-31\"]\n",
    "filter = ee.Filter.date(*summer)\n",
    "seasonCollection = collection.filterBounds(districts.geometry()) \\\n",
    "    .filter(filter) \\\n",
    "    .filter(ee.Filter.lt(\"CLOUD_COVER\", 4)) \\\n",
    "    .select(['B2','B3','B4','B5']) \\\n",
    "    \n",
    "seasonCollection.first().getInfo()\n",
    "\n",
    "\n",
    "# ndvi_images = ee.ImageCollection([ndvi_image])\n",
    "# geemap.download_ee_image_collection(ndvi_images, '.',  scale=30, crs='EPSG:4326')"
   ]
  }
 ],
 "metadata": {
  "kernelspec": {
   "display_name": "geo",
   "language": "python",
   "name": "python3"
  },
  "language_info": {
   "codemirror_mode": {
    "name": "ipython",
    "version": 3
   },
   "file_extension": ".py",
   "mimetype": "text/x-python",
   "name": "python",
   "nbconvert_exporter": "python",
   "pygments_lexer": "ipython3",
   "version": "3.11.11"
  }
 },
 "nbformat": 4,
 "nbformat_minor": 2
}
