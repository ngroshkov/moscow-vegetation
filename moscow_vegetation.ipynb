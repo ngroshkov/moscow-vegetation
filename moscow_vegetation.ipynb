{
 "cells": [
  {
   "cell_type": "code",
   "execution_count": null,
   "metadata": {},
   "outputs": [],
   "source": [
    "%pip install pystac-client sat-search \n",
    "%pip install turfpy\n",
    "%pip install rasterio fiona rasterstats\n",
    "%pip install rasterio[s3]\n",
    "%pip install dotenv"
   ]
  },
  {
   "cell_type": "code",
   "execution_count": null,
   "metadata": {},
   "outputs": [],
   "source": [
    "import geopandas as gpd\n",
    "import numpy as np\n",
    "import matplotlib.pyplot as plt\n",
    "\n",
    "# City Municipal Districs\n",
    "with open(\"./mo.geojson\") as file:\n",
    "    districts = gpd.read_file(file)\n",
    "\n",
    "districts.set_crs(epsg=4326, inplace=True)\n",
    "districts.explore()\n"
   ]
  },
  {
   "cell_type": "code",
   "execution_count": null,
   "metadata": {},
   "outputs": [],
   "source": [
    "import shapely\n",
    "\n",
    "total_bounds = gpd.GeoDataFrame(index=[0], crs='epsg:4326', geometry=[shapely.box(*districts.total_bounds)])\n",
    "total_bounds.explore()"
   ]
  },
  {
   "cell_type": "code",
   "execution_count": null,
   "metadata": {},
   "outputs": [],
   "source": [
    "from pystac_client import Client\n",
    "\n",
    "# Browse USGS STAC\n",
    "LandsatSTAC = Client.open(\"https://landsatlook.usgs.gov/stac-server\", headers=[])\n",
    "\n",
    "for collection in LandsatSTAC.get_collections():\n",
    "    print(f\"{collection.id}\\t\\t{collection.description}\")"
   ]
  },
  {
   "cell_type": "code",
   "execution_count": null,
   "metadata": {},
   "outputs": [],
   "source": [
    "import json\n",
    "bbox = json.loads(total_bounds.to_json())['features'][0]['geometry']\n",
    "\n",
    "# STAC Search\n",
    "LandsatSearch = LandsatSTAC.search ( \n",
    "    intersects = bbox,\n",
    "    datetime = '2024-06-28/2024-06-28',\n",
    "    query =  ['eo:cloud_cover95'],\n",
    "    collections = [\"landsat-c2l2-sr\"] )\n",
    "\n",
    "Landsat_items = [i.to_dict() for i in LandsatSearch.get_items()]\n",
    "print(f\"{len(Landsat_items)} Landsat scenes fetched\")\n",
    "print(Landsat_items[0].keys())\n",
    "for item in Landsat_items:\n",
    "    print(item['id'])"
   ]
  },
  {
   "cell_type": "code",
   "execution_count": null,
   "metadata": {},
   "outputs": [],
   "source": [
    "Landsat_item = Landsat_items[1]\n",
    "print(Landsat_item['assets'].keys())\n",
    "print(Landsat_item['assets']['red'].keys())\n",
    "print(Landsat_item['assets']['red'][\"href\"])\n",
    "print(Landsat_item['assets']['red'][\"alternate\"].keys())\n",
    "print(Landsat_item['assets']['red'][\"alternate\"]['s3'].keys())\n",
    "print(Landsat_item['assets']['red'][\"alternate\"]['s3']['href'])"
   ]
  },
  {
   "cell_type": "code",
   "execution_count": null,
   "metadata": {},
   "outputs": [],
   "source": [
    "red_href = Landsat_item['assets']['red']['href']\n",
    "nir_href = Landsat_item['assets']['nir08']['href']\n",
    "red_s3 = Landsat_item['assets']['red']['alternate']['s3']['href']\n",
    "nir_s3 = Landsat_item['assets']['nir08']['alternate']['s3']['href']\n",
    "print(red_href)    \n",
    "print(nir_href)\n",
    "print(red_s3)    \n",
    "print(nir_s3)"
   ]
  },
  {
   "cell_type": "code",
   "execution_count": null,
   "metadata": {},
   "outputs": [],
   "source": [
    "# Download tiff using STAC link  (not working)\n",
    "\n",
    "import requests\n",
    "from dotenv import dotenv_values\n",
    "\n",
    "config = dotenv_values(\".env\")\n",
    "username = config['usgs_user']\n",
    "token = config['usgs_token']\n",
    "\n",
    "def download_file(session, url, filename):\n",
    "    r = session.get(url, stream=True)\n",
    "    if r.ok:\n",
    "        with open(filename, 'wb') as file:\n",
    "            # file.write(r.content)\n",
    "            for chunk in r.iter_content(chunk_size=128):\n",
    "                file.write(chunk)\n",
    "        print(f\"File {filename} downloaded successfully.\")\n",
    "    else:\n",
    "        print(f\"Failed to download file {url}. Status code: {r.status_code}\")\n",
    "    return filename\n",
    "\n",
    "with requests.Session() as session:\n",
    "    data = {\n",
    "        'username': username, \n",
    "        'token': token\n",
    "    }\n",
    "    with session.post(\"https://m2m.cr.usgs.gov/api/api/json/stable/login-token\", json=data) as response:\n",
    "        api_token = response.json()['data']\n",
    "        print(api_token)\n",
    "        download_file(session, red_href, f\"{Landsat_item['id']}_B4.html\")\n",
    "        download_file(session, nir_href, f\"{Landsat_item['id']}_B5.TIF\")\n"
   ]
  },
  {
   "cell_type": "code",
   "execution_count": null,
   "metadata": {},
   "outputs": [],
   "source": [
    "# Direct Search\n",
    "\n",
    "import requests\n",
    "from dotenv import dotenv_values\n",
    "\n",
    "config = dotenv_values(\".env\")\n",
    "username = config['usgs_user']\n",
    "token = config['usgs_token']\n",
    "\n",
    "# USGS M2M API key\n",
    "data = {\n",
    "    'username': username, \n",
    "    'token': token\n",
    "}\n",
    "with requests.post(\"https://m2m.cr.usgs.gov/api/api/json/stable/login-token\", json=data) as response:\n",
    "    print(response.status_code)\n",
    "    api_token = response.json()['data']"
   ]
  },
  {
   "cell_type": "code",
   "execution_count": null,
   "metadata": {},
   "outputs": [],
   "source": [
    "import geojson\n",
    "\n",
    "# Filters\n",
    "total_bounds = districts.total_bounds\n",
    "\n",
    "datasetName = \"landsat-c2l2-sr\"\n",
    "spatialFilter =  {\n",
    "    'filterType' : \"mbr\",\n",
    "    'lowerLeft' : { 'latitude' : total_bounds[1], 'longitude' : total_bounds[0] },\n",
    "    'upperRight' : { 'latitude' : total_bounds[3], 'longitude' : total_bounds[2] }\n",
    "}\n",
    "temporalFilter = {'start' : '2024-06-28', 'end' : '2024-06-28'}"
   ]
  },
  {
   "cell_type": "code",
   "execution_count": null,
   "metadata": {},
   "outputs": [],
   "source": [
    "import requests\n",
    "import json\n",
    "\n",
    "# Datasets\n",
    "\n",
    "headers = {'X-Auth-Token': api_token}   \n",
    "\n",
    "payload = {\n",
    "    'datasetName' : 'Landsat 8-9 OLI/TIRS C2 L2',\n",
    "    'spatialFilter' : spatialFilter,\n",
    "    'temporalFilter' : temporalFilter,\n",
    "    \"publicOnly\": True\n",
    "}\n",
    "\n",
    "with (requests.post(\"https://m2m.cr.usgs.gov/api/api/json/stable/dataset-search\", json.dumps(payload), headers = headers)) as response:\n",
    "    print(response.status_code)\n",
    "    dataset = json.loads(response.text)\n",
    "\n",
    "print(json.dumps(dataset, indent=2))\n",
    "# for dataset in datasets:\n",
    "    # print(f\"{dataset['datasetAlias']} {dataset['collectionName']}\")\n"
   ]
  },
  {
   "cell_type": "code",
   "execution_count": null,
   "metadata": {},
   "outputs": [],
   "source": [
    "data = {\n",
    "    'datasetName' : dataset['data'][0]['datasetAlias'], \n",
    "    'maxResults' : 10,\n",
    "    'startingNumber' : 0, \n",
    "    'sceneFilter' : {\n",
    "        'spatialFilter' : spatialFilter,\n",
    "        'acquisitionFilter' : temporalFilter,\n",
    "    }\n",
    "}\n",
    "\n",
    "with (requests.post(\"https://m2m.cr.usgs.gov/api/api/json/stable/scene-search\", json.dumps(data), headers = headers)) as response:\n",
    "    print(response.status_code)\n",
    "    scenes = json.loads(response.text)['data']['results']\n",
    "\n",
    "\n",
    "for scene in scenes:\n",
    "    print(f\"{scene['displayId']} {scene['temporalCoverage']} {scene['spatialCoverage']}\")"
   ]
  },
  {
   "cell_type": "code",
   "execution_count": null,
   "metadata": {},
   "outputs": [],
   "source": [
    "spatialCoveragePolygons = []\n",
    "for scene in scenes:\n",
    "    # print(scene['spatialCoverage']['coordinates'][0])\n",
    "    coordinates = scene['spatialCoverage']['coordinates'][0]\n",
    "\n",
    "    spatialCoveragePolygons.append(shapely.geometry.Polygon(coordinates))\n",
    "\n",
    "spatialCoverage = gpd.GeoSeries(spatialCoveragePolygons)\n",
    "spatialCoverage.set_crs(epsg=4326, inplace=True)\n",
    "spatialCoverage.explore()"
   ]
  },
  {
   "cell_type": "code",
   "execution_count": null,
   "metadata": {},
   "outputs": [],
   "source": [
    "import requests\n",
    "\n",
    "# Download Scene\n",
    "scene = scenes[0]\n",
    "\n",
    "data = {\n",
    "    'datasetName' : dataset['data'][0]['datasetAlias'], \n",
    "    'entityIds' : scene['entityId'],\n",
    "     \"includeSecondaryFileGroups\": True,\n",
    "}\n",
    "\n",
    "with (requests.post(\"https://m2m.cr.usgs.gov/api/api/json/stable/download-options\", json.dumps(data), headers = headers)) as response:\n",
    "    print(response.status_code)\n",
    "    downloadOptions = json.loads(response.text)\n",
    "\n",
    "# print(json.dumps(downloadOptions, indent=2))\n",
    "for d in downloadOptions['data']:\n",
    "    print(f\"{d['id']} {d['displayId']} {d['productName']}, {d['productCode']}\")"
   ]
  },
  {
   "cell_type": "code",
   "execution_count": null,
   "metadata": {},
   "outputs": [],
   "source": [
    "product = next(p for p in downloadOptions['data'] if p['productCode'] == 'D694')\n",
    "print(json.dumps(product, indent=2))"
   ]
  },
  {
   "cell_type": "code",
   "execution_count": null,
   "metadata": {},
   "outputs": [],
   "source": [
    "for s in product['secondaryDownloads']:\n",
    "    print(f\"{s['downloadName']} {s['displayId']} {s['productCode']}, {s['downloadName']}\")"
   ]
  },
  {
   "cell_type": "code",
   "execution_count": null,
   "metadata": {},
   "outputs": [],
   "source": [
    "redBandProduct = next(x for x in product['secondaryDownloads'] if x['downloadName'] == 'SR_B4.TIF')\n",
    "nirBandProduct = next(x for x in product['secondaryDownloads'] if x['downloadName'] == 'SR_B5.TIF')\n",
    "\n",
    "products = [redBandProduct, nirBandProduct]\n",
    "print(json.dumps(redBandProduct, indent=2))\n",
    "print(json.dumps(nirBandProduct, indent=2))"
   ]
  },
  {
   "cell_type": "code",
   "execution_count": null,
   "metadata": {},
   "outputs": [],
   "source": [
    "data = {\n",
    "    \"downloads\": [\n",
    "        {\n",
    "            \"entityId\": redBandProduct['entityId'],\n",
    "            \"productId\": redBandProduct['id'],\n",
    "        },\n",
    "        {\n",
    "            \"entityId\": nirBandProduct['entityId'],\n",
    "            \"productId\": nirBandProduct['id'],\n",
    "        }\n",
    "    ]\n",
    "}\n",
    "\n",
    "with (requests.post(\"https://m2m.cr.usgs.gov/api/api/json/stable/download-request\", json.dumps(data), headers = headers)) as response:\n",
    "    print(response.status_code)\n",
    "    downloadRequest = json.loads(response.text)\n",
    "    print(json.dumps(downloadRequest, indent=2))"
   ]
  },
  {
   "cell_type": "code",
   "execution_count": null,
   "metadata": {},
   "outputs": [],
   "source": [
    "# Download tiff \n",
    "def download_file(url, filename):\n",
    "    r = requests.get(url, stream=True)\n",
    "    if r.ok:\n",
    "        with open(filename, 'wb') as file:\n",
    "            # file.write(r.content)\n",
    "            for chunk in r.iter_content(chunk_size=128):\n",
    "                file.write(chunk)\n",
    "        print(f\"File {filename} downloaded successfully.\")\n",
    "    else:\n",
    "        print(f\"Failed to download file {url}. Status code: {r.status_code}\")\n",
    "    return filename\n",
    "\n",
    "for ad in downloadRequest[\"data\"]['availableDownloads']:\n",
    "    url = ad['url']\n",
    "    entityId = ad['entityId']\n",
    "    p = next(x for x in products if x['entityId'] == entityId)\n",
    "    filename = p['displayId']\n",
    "    download_file(url, filename)\n",
    "    "
   ]
  },
  {
   "cell_type": "code",
   "execution_count": null,
   "metadata": {},
   "outputs": [],
   "source": [
    "import rasterio\n",
    "\n",
    "# View Details \n",
    "with rasterio.open(f\"./{redBandProduct['displayId']}\") as tiff:\n",
    "    print(tiff)\n",
    "    print(tiff.meta)\n",
    "    print(tiff.profile)\n",
    "\n",
    "with rasterio.open(f\"./{nirBandProduct['displayId']}\") as tiff:\n",
    "    print(tiff)\n",
    "    print(tiff.meta)\n",
    "    print(tiff.profile)"
   ]
  },
  {
   "cell_type": "code",
   "execution_count": null,
   "metadata": {},
   "outputs": [],
   "source": [
    "# Calc NDVI\n",
    "with rasterio.open(f\"./{redBandProduct['displayId']}\") as redBand, rasterio.open(f\"./{nirBandProduct['displayId']}\") as nirBand:\n",
    "    red = redBand.read(1)\n",
    "    nir = nirBand.read(1)\n",
    "\n",
    "    # https://www.usgs.gov/faqs/how-do-i-use-a-scale-factor-landsat-level-2-science-products\n",
    "    scale = 0.0000275\n",
    "    offset = -0.2\n",
    "\n",
    "    redValue = red * scale + offset\n",
    "    nirValue = nir * scale + offset\n",
    "\n",
    "    ndvi = (nirValue - redValue) / (nirValue + redValue)\n",
    "    ndvi = ndvi.clip(-1, 1)\n",
    "\n",
    "plt.figure(figsize=(8, 8))\n",
    "plt.imshow(ndvi, cmap=\"RdYlGn\", vmin=-1, vmax=1)\n",
    "plt.colorbar(label=\"NDVI\", shrink=0.5)\n",
    "plt.title(\"NDVI\")\n",
    "plt.show()"
   ]
  },
  {
   "cell_type": "code",
   "execution_count": null,
   "metadata": {},
   "outputs": [],
   "source": [
    "with rasterio.open(f\"./{redBandProduct['displayId']}\") as tiff:\n",
    "    profile = tiff.profile\n",
    "    profile.update(dtype=rasterio.float32, count=1, compress=\"lzw\")\n",
    "    ndvi_filename = f\"{product['displayId']}_SR_NDVI.TIF\"\n",
    "    # Save NDVI Raster\n",
    "    with rasterio.open(ndvi_filename, \"w\", **profile) as dst:\n",
    "        dst.write(ndvi, 1)\n",
    "        print(f\"Raster data has been written to {ndvi_filename}\")"
   ]
  },
  {
   "cell_type": "markdown",
   "metadata": {},
   "source": [
    "#####################################"
   ]
  },
  {
   "cell_type": "code",
   "execution_count": null,
   "metadata": {},
   "outputs": [],
   "source": [
    "import rasterio\n",
    "import rasterio.plot\n",
    "\n",
    "# Align projections\n",
    "districts32637 = districts.to_crs(epsg=32637)\n",
    "with rasterio.open(ndvi_filename) as ndvi:\n",
    "    fig, ax = plt.subplots(figsize=(8, 8))\n",
    "    rasterio.plot.show(ndvi, ax=ax)\n",
    "    districts32637.plot(ax=ax, edgecolor=\"black\", facecolor=\"none\", linewidth=0.5)"
   ]
  },
  {
   "cell_type": "code",
   "execution_count": null,
   "metadata": {},
   "outputs": [],
   "source": [
    "from rasterstats import zonal_stats\n",
    "import geopandas as gpd\n",
    "\n",
    "# Calc and Join Zonal Stats\n",
    "districts_stats = districts32637.join(\n",
    "    gpd.GeoDataFrame(\n",
    "        zonal_stats(\n",
    "            vectors=districts32637['geometry'], \n",
    "            raster=ndvi_filename,\n",
    "            stats=['mean']\n",
    "        )\n",
    "    ),\n",
    "    how='left'\n",
    ").rename(columns={\"mean\": \"ndvi\"})\n",
    "\n",
    "districts_stats.to_file(\"mo.ndvi.stats.geojson\", driver=\"GeoJSON\")\n",
    "districts_stats.head()"
   ]
  },
  {
   "cell_type": "code",
   "execution_count": null,
   "metadata": {},
   "outputs": [],
   "source": [
    "import matplotlib.pyplot as plt\n",
    "\n",
    "districts_stats.plot(\"ndvi\", legend=True, figsize=(8, 8), aspect=1, cmap='Greens')\n",
    "plt.title(\"Moscow per District Vegetation (NDVI) Index (06.2024)\")\n",
    "plt.show()"
   ]
  }
 ],
 "metadata": {
  "kernelspec": {
   "display_name": "geo",
   "language": "python",
   "name": "python3"
  },
  "language_info": {
   "codemirror_mode": {
    "name": "ipython",
    "version": 3
   },
   "file_extension": ".py",
   "mimetype": "text/x-python",
   "name": "python",
   "nbconvert_exporter": "python",
   "pygments_lexer": "ipython3",
   "version": "3.11.11"
  }
 },
 "nbformat": 4,
 "nbformat_minor": 2
}
